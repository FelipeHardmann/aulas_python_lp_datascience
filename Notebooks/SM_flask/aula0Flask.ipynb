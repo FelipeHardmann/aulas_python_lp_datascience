{
  "nbformat": 4,
  "nbformat_minor": 0,
  "metadata": {
    "colab": {
      "provenance": []
    },
    "kernelspec": {
      "name": "python3",
      "display_name": "Python 3"
    },
    "language_info": {
      "name": "python"
    }
  },
  "cells": [
    {
      "cell_type": "markdown",
      "source": [
        "##Bem vindo a aula 0 do Super Módulo de Flask\n",
        "\n",
        "####Essa é chamada a aula 0, porque seu intuito é fazer uma pequena revisão de tópicos importantissímos para iniciar com o Flask"
      ],
      "metadata": {
        "id": "cCiyBpx8agR8"
      }
    },
    {
      "cell_type": "markdown",
      "source": [
        "#### Tópicos da aula:\n",
        "\n",
        "**Com Python**:\n",
        "- Listas\n",
        "- Dicionários\n",
        "- Funções\n",
        "- Classes"
      ],
      "metadata": {
        "id": "UFglrsPscsuC"
      }
    },
    {
      "cell_type": "markdown",
      "source": [
        "###Listas\n",
        "\n",
        "De forma bem resumida, as listas em Python são uma estrutura fundamental que permite armazenar uma coleção de dados em uma ordem específica, antes, quando queriamos criar um um conjunto de dados em Python, tinhamos a necessidade de criar várias variáveis sendo cada uma delas responsável por um dado, vamos verificar um exemplo com nomes.\n",
        "\n",
        "```\n",
        "# Se eu quisesse criar um conjunto de nomes em Python, sem utilizar uma coleção\n",
        "\n",
        "# para armazenar vários itens, teríamos que criar da seguinte forma\n",
        "\n",
        "nome1 = 'Felipe'\n",
        "\n",
        "nome2 = 'Gustavo'\n",
        "\n",
        "nome3 = 'George'\n",
        "```\n",
        "\n",
        "Porém, como você já deve ter visto não é viável criar uma coleção de dados dessa forma, pense que se tivessemos que cadastrar 100 pessoas, iria demorar uma eternidade e teriámos que criar 100 variáveis para isso, portanto, temos as listas para simplificar a nossa vida por conta disso.\n",
        "\n",
        "Certo, então, vamos criar a nossa lista, por padrão quando criamos uma lista, utilizamos a palavra no plural ou com o nome lista na frente."
      ],
      "metadata": {
        "id": "c0zXRe-hdMoj"
      }
    },
    {
      "cell_type": "code",
      "source": [
        "nomes = []"
      ],
      "metadata": {
        "id": "y5Y0kQIqfoTd"
      },
      "execution_count": 1,
      "outputs": []
    },
    {
      "cell_type": "markdown",
      "source": [
        "Certo, nesse caso então, já temos a nossa lista criada, ou seja, basta utilizarmos o colchete que já temos um dado do tipo lista."
      ],
      "metadata": {
        "id": "x5LxbF6Iswbt"
      }
    },
    {
      "cell_type": "code",
      "source": [
        "print(type(nomes))"
      ],
      "metadata": {
        "colab": {
          "base_uri": "https://localhost:8080/"
        },
        "id": "9oqQ9ZbIs7VK",
        "outputId": "0f73f744-f52d-4611-9cb6-38e1fab81da6"
      },
      "execution_count": 2,
      "outputs": [
        {
          "output_type": "stream",
          "name": "stdout",
          "text": [
            "<class 'list'>\n"
          ]
        }
      ]
    },
    {
      "cell_type": "markdown",
      "source": [
        "Mas, nesse caso, nossa lista está vazia e agora veremos como podemos adicionar dados a essa lista."
      ],
      "metadata": {
        "id": "6n3BcHmXs857"
      }
    },
    {
      "cell_type": "markdown",
      "source": [
        "###*append()*\n",
        "\n",
        "Podemos adicionar dados a nossa lista de duas formas, inserindo de forma manual, que é assim:"
      ],
      "metadata": {
        "id": "U5T9UcXhtHsY"
      }
    },
    {
      "cell_type": "code",
      "source": [
        "nome1 = 'Felipe'\n",
        "nome2 = 'Gustavo'\n",
        "nome3 = 'Gabriel'\n",
        "\n",
        "nomes = [nome1, nome2, nome3]\n",
        "\n",
        "print(nomes)"
      ],
      "metadata": {
        "colab": {
          "base_uri": "https://localhost:8080/"
        },
        "id": "kY7Jl4VStgh0",
        "outputId": "ee1f6eea-623e-4432-c037-4fd7f7701dc1"
      },
      "execution_count": 3,
      "outputs": [
        {
          "output_type": "stream",
          "name": "stdout",
          "text": [
            "['Felipe', 'Gustavo', 'Gabriel']\n"
          ]
        }
      ]
    },
    {
      "cell_type": "markdown",
      "source": [
        "Porém, mais uma vez, essa não seria a melhor forma de fazer isso, para isso temos a função *append*, que adiciona dados dentro da lista e podemos utilizar essa função de várias formas, vamos ver alguns exemplos."
      ],
      "metadata": {
        "id": "kCs2CHyctp_k"
      }
    },
    {
      "cell_type": "code",
      "source": [
        "# Vamos ajustar nosso código para que tenha interação com o usuário e que possa inserir pelo menos 10 usuários\n",
        "\n",
        "nomes = []\n",
        "for i in range(10):\n",
        "  nome = input('Digite seu nome para que seja cadastrado no sistema: ')\n",
        "  nomes.append(nome)\n",
        "print(nomes)"
      ],
      "metadata": {
        "colab": {
          "base_uri": "https://localhost:8080/"
        },
        "id": "yof92sslt68i",
        "outputId": "924b95f8-f2ad-4c41-d06f-6def05c19ec1"
      },
      "execution_count": 4,
      "outputs": [
        {
          "output_type": "stream",
          "name": "stdout",
          "text": [
            "Digite seu nome para que seja cadastrado no sistema: Felipe\n",
            "Digite seu nome para que seja cadastrado no sistema: Augusto\n",
            "Digite seu nome para que seja cadastrado no sistema: Thalita\n",
            "Digite seu nome para que seja cadastrado no sistema: Sophia\n",
            "Digite seu nome para que seja cadastrado no sistema: Adriano\n",
            "Digite seu nome para que seja cadastrado no sistema: Hardmann\n",
            "Digite seu nome para que seja cadastrado no sistema: Renan\n",
            "Digite seu nome para que seja cadastrado no sistema: Guilherme\n",
            "Digite seu nome para que seja cadastrado no sistema: Camila\n",
            "Digite seu nome para que seja cadastrado no sistema: Tereza\n",
            "['Felipe', 'Augusto', 'Thalita', 'Sophia', 'Adriano', 'Hardmann', 'Renan', 'Guilherme', 'Camila', 'Tereza']\n"
          ]
        }
      ]
    },
    {
      "cell_type": "markdown",
      "source": [
        "Perceba como a função de *append* deixa o sistema melhor para que haja interações do usuário\n",
        "\n",
        "Outra coisa muito interessante das listas é que podemos acessar seus dados através de índices, sendo eles respresentados por número, então por exemplo, na nossa lista de nomes que criamos temos ali alguns dados, se quisermos por exemplo ver o primeiro dado, podemos evidenciar ele."
      ],
      "metadata": {
        "id": "0kuN5pl3ulyE"
      }
    },
    {
      "cell_type": "code",
      "source": [
        "print(nomes[0])\n",
        "print(nomes[1])\n",
        "print(nomes[2])"
      ],
      "metadata": {
        "colab": {
          "base_uri": "https://localhost:8080/"
        },
        "id": "YQqpp04Bw1IK",
        "outputId": "c25af3ab-ea1a-49c6-9c75-9cbda5e052bf"
      },
      "execution_count": 8,
      "outputs": [
        {
          "output_type": "stream",
          "name": "stdout",
          "text": [
            "Felipe\n",
            "Augusto\n",
            "Thalita\n"
          ]
        }
      ]
    },
    {
      "cell_type": "markdown",
      "source": [
        "##Dicionários\n",
        "\n",
        "Um dicionário em Python é um tipo de coleção que possui uma chave e um valor, podemos entender ele como uma lista com rótulos, portanto, diferente das listas que acessamos através de índices, em um dicionários vamos acessar os dados através das chaves.\n",
        "\n",
        "O uso de dicionários na parte de desenvolvimento é muito comum, principalmente por suas funções serem primordiais para consulta em arquivos do tipo json.\n",
        "\n",
        "\n",
        "É muito simples criarmos um dicionário, basta criarmos uma variável e atribuirmos ela a um conjunto de chaves, dessa maneira:\n"
      ],
      "metadata": {
        "id": "sgsYexGFu7MD"
      }
    },
    {
      "cell_type": "code",
      "source": [
        "dicionario = {}"
      ],
      "metadata": {
        "id": "66VJIerUzaYn"
      },
      "execution_count": 9,
      "outputs": []
    },
    {
      "cell_type": "code",
      "source": [
        "print(type(dicionario))"
      ],
      "metadata": {
        "colab": {
          "base_uri": "https://localhost:8080/"
        },
        "id": "1v7f-AZIzlwb",
        "outputId": "eddcfca4-526c-4e07-a189-a37da5f3e6d6"
      },
      "execution_count": 10,
      "outputs": [
        {
          "output_type": "stream",
          "name": "stdout",
          "text": [
            "<class 'dict'>\n"
          ]
        }
      ]
    },
    {
      "cell_type": "markdown",
      "source": [
        "Agora, vamos criar um exemplo de dados em um dicionário, que é um pouco diferente da forma que criamos as listas, nesse caso, precisamos criar a chave e o valor, da seguinte forma"
      ],
      "metadata": {
        "id": "KIe_uoVDzoGA"
      }
    },
    {
      "cell_type": "code",
      "source": [
        "exemplo = {\n",
        "    'chave': 'valor'\n",
        "}"
      ],
      "metadata": {
        "id": "al9Tf-D60RD6"
      },
      "execution_count": 11,
      "outputs": []
    },
    {
      "cell_type": "code",
      "source": [
        "print(exemplo)"
      ],
      "metadata": {
        "colab": {
          "base_uri": "https://localhost:8080/"
        },
        "id": "paZx_98Z0Ut2",
        "outputId": "ab470920-9d0a-41f3-ba8b-6c25f95651fa"
      },
      "execution_count": 12,
      "outputs": [
        {
          "output_type": "stream",
          "name": "stdout",
          "text": [
            "{'chave': 'valor'}\n"
          ]
        }
      ]
    },
    {
      "cell_type": "markdown",
      "source": [
        "Agora vemos o nosso dicionário dessa forma acima, porém, se quisermos ver o valor do dado, precisamos apenas chamar a chave dele, da seguinte forma:"
      ],
      "metadata": {
        "id": "HcrQ2C730WCq"
      }
    },
    {
      "cell_type": "code",
      "source": [
        "print(exemplo['chave'])"
      ],
      "metadata": {
        "colab": {
          "base_uri": "https://localhost:8080/"
        },
        "id": "VY4Ripu_0ygR",
        "outputId": "ce10f4d7-5260-451d-f08e-1a0fd5153323"
      },
      "execution_count": 13,
      "outputs": [
        {
          "output_type": "stream",
          "name": "stdout",
          "text": [
            "valor\n"
          ]
        }
      ]
    },
    {
      "cell_type": "markdown",
      "source": [
        "Então, nesse contexto, você deve estar se perguntando porque utilizar dicionários ao invés de uma lista, bom, um dicionário é uma estrutura que possui uma melhor organização de dados nomeados, por exemplo, se estivermos cadastrando uma pessoa que precisa passar o nome, a idade e o endereço da pessoa, fica muito mais simples passarmos os seus dados em um dicionário, vamos ver um exemplo."
      ],
      "metadata": {
        "id": "MTl2kp7q000Y"
      }
    },
    {
      "cell_type": "code",
      "source": [
        "# Usando dicionário\n",
        "dicionario_aluno = {\"nome\": \"Maria\", \"nota\": 85, \"idade\": 17}\n",
        "\n",
        "# Usando lista\n",
        "lista_aluno = [\"Maria\", 85, 17]"
      ],
      "metadata": {
        "id": "kNz4fOfd1dSy"
      },
      "execution_count": 14,
      "outputs": []
    },
    {
      "cell_type": "code",
      "source": [
        "dicionario_aluno"
      ],
      "metadata": {
        "colab": {
          "base_uri": "https://localhost:8080/"
        },
        "id": "CyaiQWvu1m0i",
        "outputId": "ed8521be-5b75-4eda-c2c6-3dbc63c9ca5b"
      },
      "execution_count": 15,
      "outputs": [
        {
          "output_type": "execute_result",
          "data": {
            "text/plain": [
              "{'nome': 'Maria', 'nota': 85, 'idade': 17}"
            ]
          },
          "metadata": {},
          "execution_count": 15
        }
      ]
    },
    {
      "cell_type": "code",
      "source": [
        "lista_aluno"
      ],
      "metadata": {
        "colab": {
          "base_uri": "https://localhost:8080/"
        },
        "id": "V2qY-xt01oJp",
        "outputId": "6f026d2f-b6a9-4b81-faed-98a8f65a4c38"
      },
      "execution_count": 16,
      "outputs": [
        {
          "output_type": "execute_result",
          "data": {
            "text/plain": [
              "['Maria', 85, 17]"
            ]
          },
          "metadata": {},
          "execution_count": 16
        }
      ]
    },
    {
      "cell_type": "markdown",
      "source": [
        "##Operações de dicionários\n",
        "\n",
        "Se quisermos alterar a estrutura do dicionário, podemos por exemplo adicionar uma nova chave ao dicionário da seguinte forma"
      ],
      "metadata": {
        "id": "YOZ1kmpc1pXr"
      }
    },
    {
      "cell_type": "code",
      "source": [
        "dicionario_aluno['altura'] = 1.90\n",
        "\n",
        "print(dicionario_aluno)"
      ],
      "metadata": {
        "colab": {
          "base_uri": "https://localhost:8080/"
        },
        "id": "2VzdKK9912ui",
        "outputId": "9226497b-1898-4005-ac9a-b45647929fd7"
      },
      "execution_count": 17,
      "outputs": [
        {
          "output_type": "stream",
          "name": "stdout",
          "text": [
            "{'nome': 'Maria', 'nota': 85, 'idade': 17, 'altura': 1.9}\n"
          ]
        }
      ]
    },
    {
      "cell_type": "markdown",
      "source": [
        "E podemos deletar o dado de uma forma simples também, utilizando a função *del*"
      ],
      "metadata": {
        "id": "7mrGkl-r2MgI"
      }
    },
    {
      "cell_type": "code",
      "source": [
        "del dicionario_aluno['nota']"
      ],
      "metadata": {
        "id": "C5taYoxe2kV5"
      },
      "execution_count": 19,
      "outputs": []
    },
    {
      "cell_type": "code",
      "source": [
        "dicionario_aluno"
      ],
      "metadata": {
        "colab": {
          "base_uri": "https://localhost:8080/"
        },
        "id": "JjKf_HlP2nPa",
        "outputId": "0e6a8374-9277-48a8-8668-dafff48aba87"
      },
      "execution_count": 20,
      "outputs": [
        {
          "output_type": "execute_result",
          "data": {
            "text/plain": [
              "{'nome': 'Maria', 'idade': 17, 'altura': 1.9}"
            ]
          },
          "metadata": {},
          "execution_count": 20
        }
      ]
    },
    {
      "cell_type": "markdown",
      "source": [
        "Certo, agora que entedemos um pouco sobre essas duas coleções de dados, vamos fazer algumas questões:\n",
        "\n",
        "1 - Crie uma lista de números inteiros de 1 a 10.\n",
        "\n",
        "2 - Adicione o número 11 ao final da lista.\n",
        "\n",
        "3 - Remova o terceiro elemento da lista.\n",
        "\n",
        "4 - Encontre a soma de todos os elementos da lista.\n",
        "\n",
        "5 - Inverta a ordem dos elementos na lista.\n",
        "\n",
        "Crie um dicionário com as seguintes informações: nome (Maria), idade (30), cidade (São Paulo).\n",
        "\n",
        "1 - Adicione uma nova entrada para \"profissão\" (Engenheira).\n",
        "\n",
        "2 - Atualize a idade para 31.\n",
        "\n",
        "3 - Remova a entrada para \"cidade\".\n",
        "\n",
        "4 - Itere sobre o dicionário e imprima todas as chaves e valores."
      ],
      "metadata": {
        "id": "24UVeX5f2pqD"
      }
    },
    {
      "cell_type": "markdown",
      "source": [
        "##Funções\n",
        "\n",
        "Agora que vimos os principais tipo de coleções que vamos utilizar nesse Super Módulo, vamos adiantar um pouco o assunto e passar para as funções.\n",
        "\n",
        "Funções são bloco de código que possuem funcionalidades específicas, normalmente, as funções são usadas para que não haja repetição em determinadas partes do seu código.\n",
        "\n",
        "Certo, então vamos criar nossa primeira função......\n",
        "\n",
        "Por padrão, quando criamos uma função passamos primeiro a palavra reservada **def**.\n"
      ],
      "metadata": {
        "id": "lIkjUYMj633I"
      }
    },
    {
      "cell_type": "code",
      "source": [
        "def funcao():\n",
        "  print('Minha primeira função')"
      ],
      "metadata": {
        "id": "EmM1nRnUHn_7"
      },
      "execution_count": 21,
      "outputs": []
    },
    {
      "cell_type": "markdown",
      "source": [
        "Certo, criada nossa função, se executarmos o nosso código, você verá que nada vai aparecer em nosso terminal, isso acontece porque a nossa função para ser executada precisa ser chamada, então, vamos chamar a nossa função."
      ],
      "metadata": {
        "id": "BtgIlbC_Ht0m"
      }
    },
    {
      "cell_type": "code",
      "source": [
        "funcao()"
      ],
      "metadata": {
        "colab": {
          "base_uri": "https://localhost:8080/"
        },
        "id": "t9FIWmwXIRd0",
        "outputId": "588be3db-b191-4d94-c345-e6bd6869f977"
      },
      "execution_count": 22,
      "outputs": [
        {
          "output_type": "stream",
          "name": "stdout",
          "text": [
            "Minha primeira função\n"
          ]
        }
      ]
    },
    {
      "cell_type": "markdown",
      "source": [
        "Agora, toda vez que chamarmos essa função que criamos será executado o *print* que está ali dentro da função."
      ],
      "metadata": {
        "id": "Y8d7m8PaISaq"
      }
    },
    {
      "cell_type": "markdown",
      "source": [
        "##Parâmetros de funções\n",
        "\n",
        "Primeiramente, devemos saber que funções podem receber valores.\n",
        "\n",
        "Esses valores são conhecidos na programação como parâmetros, esses parâmetros vão receber valores em algum momento.\n",
        "\n",
        "Essas funções recebiam os chamados paramêtros.\n",
        "\n",
        "Vamos fazer alguns exemplos de funções com parâmetros\n",
        "\n",
        "Vamos criar uma função para fazer uma saudação a certo usuário, havendo a necessidade apenas dele colocar o seu nome."
      ],
      "metadata": {
        "id": "L65kIffjJubQ"
      }
    },
    {
      "cell_type": "code",
      "source": [
        "def saudacao(nome):\n",
        "  print(f'Olá {nome}, seja bem-vindo!')"
      ],
      "metadata": {
        "id": "QOCUXE4_KHXz"
      },
      "execution_count": 23,
      "outputs": []
    },
    {
      "cell_type": "markdown",
      "source": [
        "Agora, não podemos chamar simplesmente a função *saudacao* pura"
      ],
      "metadata": {
        "id": "o05BWDd0LHeM"
      }
    },
    {
      "cell_type": "code",
      "source": [
        "saudacao()"
      ],
      "metadata": {
        "colab": {
          "base_uri": "https://localhost:8080/",
          "height": 147
        },
        "id": "5lcCAeBuLQ_Y",
        "outputId": "92730a5f-d7de-4142-c44a-a518dc6e14dc"
      },
      "execution_count": 24,
      "outputs": [
        {
          "output_type": "error",
          "ename": "TypeError",
          "evalue": "saudacao() missing 1 required positional argument: 'nome'",
          "traceback": [
            "\u001b[0;31m---------------------------------------------------------------------------\u001b[0m",
            "\u001b[0;31mTypeError\u001b[0m                                 Traceback (most recent call last)",
            "\u001b[0;32m<ipython-input-24-193eac05e30d>\u001b[0m in \u001b[0;36m<cell line: 1>\u001b[0;34m()\u001b[0m\n\u001b[0;32m----> 1\u001b[0;31m \u001b[0msaudacao\u001b[0m\u001b[0;34m(\u001b[0m\u001b[0;34m)\u001b[0m\u001b[0;34m\u001b[0m\u001b[0;34m\u001b[0m\u001b[0m\n\u001b[0m",
            "\u001b[0;31mTypeError\u001b[0m: saudacao() missing 1 required positional argument: 'nome'"
          ]
        }
      ]
    },
    {
      "cell_type": "markdown",
      "source": [
        "Perceba que ele mostra um erro informando que esquecemos um argumento posicional, que é o nome do usuário que a função pede."
      ],
      "metadata": {
        "id": "YprJqB5HLSea"
      }
    },
    {
      "cell_type": "code",
      "source": [
        "saudacao('Felipe')"
      ],
      "metadata": {
        "colab": {
          "base_uri": "https://localhost:8080/"
        },
        "id": "7789QMgVLcNt",
        "outputId": "16045dd8-b8a2-4870-f619-ef0f9413eb67"
      },
      "execution_count": 25,
      "outputs": [
        {
          "output_type": "stream",
          "name": "stdout",
          "text": [
            "Olá Felipe, seja bem-vindo!\n"
          ]
        }
      ]
    },
    {
      "cell_type": "markdown",
      "source": [
        "Então, perceba, não precisamos mais recriar toda uma lógica para executar uma ação de saudação para o usuário, precisamos apenas chamar a função que criamos de saudação"
      ],
      "metadata": {
        "id": "q-yB7fKILdzL"
      }
    },
    {
      "cell_type": "code",
      "source": [
        "nome = input('Digite seu nome')\n",
        "saudacao(nome)"
      ],
      "metadata": {
        "colab": {
          "base_uri": "https://localhost:8080/"
        },
        "id": "h2Oq7DzZMbWE",
        "outputId": "948a0b75-581c-4a0d-9b74-294c7206c3ca"
      },
      "execution_count": 27,
      "outputs": [
        {
          "output_type": "stream",
          "name": "stdout",
          "text": [
            "Digite seu nomefelipe\n",
            "Olá felipe, seja bem-vindo!\n"
          ]
        }
      ]
    },
    {
      "cell_type": "markdown",
      "source": [
        "## DocStrings(PEP 257)\n",
        "\n",
        "https://peps.python.org/pep-0257/\n",
        "\n",
        "Nas primeiras aulas vimos que o Python possui dois tipos de comentários, mas agora veremos uma nova funcionalidade para os comentários em Python que são as documentações.\n",
        "\n",
        "Agora vamos ver como criar essas DocStrings\n",
        "\n",
        "Vamos editar a função que já criamos de saudação"
      ],
      "metadata": {
        "id": "QdaGKjkYMg58"
      }
    },
    {
      "cell_type": "code",
      "source": [
        "def saudacao(nome):\n",
        "  '''\n",
        "    Essa função serve para fazer uma saudação a um usuário\n",
        "  '''\n",
        "  print(f'Olá {nome}, seja bem-vindo!')"
      ],
      "metadata": {
        "id": "1kZ-811NM_mW"
      },
      "execution_count": 28,
      "outputs": []
    },
    {
      "cell_type": "markdown",
      "source": [
        "Agora, com essa mini documentação da função pronta, podemos chamar essa documentação e entender um pouco melhor o que essa função faz."
      ],
      "metadata": {
        "id": "YCPF-y8bNOUN"
      }
    },
    {
      "cell_type": "code",
      "source": [
        "saudacao.__doc__"
      ],
      "metadata": {
        "colab": {
          "base_uri": "https://localhost:8080/",
          "height": 36
        },
        "id": "1irMZsC8NLCA",
        "outputId": "112052f7-7e36-42d5-c9d8-685fb8382ddb"
      },
      "execution_count": 29,
      "outputs": [
        {
          "output_type": "execute_result",
          "data": {
            "text/plain": [
              "'\\n    Essa função serve para fazer uma saudação a um usuário\\n  '"
            ],
            "application/vnd.google.colaboratory.intrinsic+json": {
              "type": "string"
            }
          },
          "metadata": {},
          "execution_count": 29
        }
      ]
    },
    {
      "cell_type": "markdown",
      "source": [
        "##Parâmetros Nomeados\n",
        "\n",
        "Agora que vimos sobre parâmetros, vamos ver eles nomeados, que nada mais são do que valores padrões, caso não seja passado valores no código, isso auxília muitas vez a não quebrar o código de alguma forma."
      ],
      "metadata": {
        "id": "sCAZPSKqNNET"
      }
    },
    {
      "cell_type": "code",
      "source": [
        "def cachorro(raca='Golden', tamanho=1.05):\n",
        "  print(f'O cachorro é um {raca} de tamanho {tamanho}')"
      ],
      "metadata": {
        "id": "qBtLlpk5N_5Y"
      },
      "execution_count": 30,
      "outputs": []
    },
    {
      "cell_type": "markdown",
      "source": [
        "Agora, podemos chamar essa função *cachorro* sem passar parâmetros na função, vamos ver o exemplo:"
      ],
      "metadata": {
        "id": "njX-rihFOWia"
      }
    },
    {
      "cell_type": "code",
      "source": [
        "cachorro()"
      ],
      "metadata": {
        "colab": {
          "base_uri": "https://localhost:8080/"
        },
        "id": "DA04Kb_IOjTm",
        "outputId": "983f9b78-f25a-4a6f-8312-7df69f60a699"
      },
      "execution_count": 31,
      "outputs": [
        {
          "output_type": "stream",
          "name": "stdout",
          "text": [
            "O cachorro é um Golden de tamanho 1.05\n"
          ]
        }
      ]
    },
    {
      "cell_type": "markdown",
      "source": [
        "Certo, mas podemos chamar a função e simplesmente modificar o parâmetro, dessa forma:"
      ],
      "metadata": {
        "id": "lOJMYYL7OkUn"
      }
    },
    {
      "cell_type": "code",
      "source": [
        "cachorro('Pitbull', 1.10)"
      ],
      "metadata": {
        "colab": {
          "base_uri": "https://localhost:8080/"
        },
        "id": "moguJpkWOvBW",
        "outputId": "ee3adf37-7a46-4e8d-e683-98b78affee5e"
      },
      "execution_count": 32,
      "outputs": [
        {
          "output_type": "stream",
          "name": "stdout",
          "text": [
            "O cachorro é um Pitbull de tamanho 1.1\n"
          ]
        }
      ]
    },
    {
      "cell_type": "markdown",
      "source": [
        "Certo, agora que vimos as funções, vamos fazer algumas atividades sobre funções\n",
        "\n",
        "Crie uma função para calcular o IMC de 4 pessoas. Em seguida crie um programa que peça o peso e a altura de uma pessoa e implemente a função em seu programa.\n",
        "\n",
        "**Atenção**: Use as seguintes estruturas: laço de repetição. listas IMC = peso / altura."
      ],
      "metadata": {
        "id": "EdTTQPT3O0IJ"
      }
    },
    {
      "cell_type": "markdown",
      "source": [
        "##Classes\n",
        "\n",
        "Agora, vamos para outra assunto extremamente importante para avançarmos para o Flask, que são as classes em Python, quando falamos de classes em Python, já estamos entrando no campo da orientação a objeto."
      ],
      "metadata": {
        "id": "0I30I2pvRHwd"
      }
    },
    {
      "cell_type": "markdown",
      "source": [
        "###POO\n",
        "\n",
        "Certo, para falarmos de classes vamos primeiro entender o que é POO(Programação Orientada a Objetos).\n",
        "\n",
        "A programação Orientada a objetos é um paradigma de programação e um paradigma de programação de uma linguagem de programação é a sua identidade. Corresponde a um conjunto de características que, juntas, definem como ela opera e resolve os problemas. Nesse caso, se entende como paradigma como um conjunto de regras que uma linguagem de programação vai seguir.\n",
        "\n",
        "Um paradigma de programação fornece e determina a visão que o programador possui sobre a estruturação e execução do programa. Por exemplo, em programação orientada a objetos, os programadores podem abstrair um programa como uma coleção de objetos que interagem entre si.\n",
        "\n",
        "Certo, agora voltando ao POO, vamos entender o que é esse paradigma:\n",
        "\n",
        "O POO foi criado para tentar se aproximar o mundo virtual do mundo real.\n",
        "\n",
        "Nesse paradigma o programador é responsável por moldar o mundo da orientação a objetos, estamos trabalhando com a orientação a objetos desde o começo, você só não percebeu, quando implementamos a orientação a objetos, estamos afirmando que tudo agora no nosso programa é um objeto, assim como no mundo real, onde tudo é um objeto real.\n"
      ],
      "metadata": {
        "id": "iPDJJaxfR-rN"
      }
    },
    {
      "cell_type": "markdown",
      "source": [
        "#**Atenção**:\n",
        "\n",
        "### Para começarmos a entender esse paradigma, vamos pensar que tudo no Python é um objeto.\n",
        "\n",
        "Nesse caso, strings, listas, números, dicionários, todos são objetos, porque refletem algo do mundo real e possuem atributos e caracteristícas únicas"
      ],
      "metadata": {
        "id": "HwETUL0QS8ME"
      }
    },
    {
      "cell_type": "markdown",
      "source": [
        "Nesse caso, vamos entender um pouco sobre a orientação a objetos resolvendo um problema real.\n",
        "\n",
        "Vamos imaginar um carro, quais são suas características, ações que um carro pode fazer, pensando nisso, nessas características e ações, podemos criar um carro na base do código, já que, ele possui esses aspectos.\n",
        "\n",
        "Vamos visualizar os atributos/características de um carro:\n",
        "\n",
        "    marca\n",
        "    modelo\n",
        "    ano\n",
        "    peso\n",
        "\n",
        "E agora as ações que ele pode executar:\n",
        "\n",
        "    ligar()\n",
        "    desligar()\n",
        "    acelerar()\n",
        "    buzinar()\n",
        "    frear()"
      ],
      "metadata": {
        "id": "_EmwrArjTiK6"
      }
    },
    {
      "cell_type": "markdown",
      "source": [
        "Agora, vamos entender como podemos criar isso em código, para isso, devemos criar uma classe em Python, que é definido da seguinte forma:"
      ],
      "metadata": {
        "id": "EbTQ_XTyUx4r"
      }
    },
    {
      "cell_type": "code",
      "source": [
        "class Carro:\n",
        "  ..."
      ],
      "metadata": {
        "id": "xiYNcjxfWO2q"
      },
      "execution_count": 33,
      "outputs": []
    },
    {
      "cell_type": "markdown",
      "source": [
        "Utilizamos a palavra reservada *class* para criarmos a nossa classe.\n",
        "\n",
        "Agora, devemos adicionar os atributos/características da nossa classe, para isso utilizaremos uma função chamada **init**"
      ],
      "metadata": {
        "id": "bFNS7o7KWQ4l"
      }
    },
    {
      "cell_type": "code",
      "source": [
        "class Carro:\n",
        "  def __init__(self, marca, modelo, ano, peso):\n",
        "    self.marca = marca\n",
        "    self.modelo = modelo\n",
        "    self.ano = ano\n",
        "    self.peso = peso"
      ],
      "metadata": {
        "id": "ClfRo77OWoA0"
      },
      "execution_count": 34,
      "outputs": []
    },
    {
      "cell_type": "markdown",
      "source": [
        "###Quem é Self?\n",
        "\n",
        "Self é um parâmetro que se refere a própria instância da classe. Serve para acessar os atributos e métodos da classe referentes àquele objeto em específico.\n"
      ],
      "metadata": {
        "id": "mOzw8z0dWti3"
      }
    },
    {
      "cell_type": "markdown",
      "source": [
        "Agora, precisamos criar as ações que esse carro possui, que uma ação sempre será definida através de uma função, ou seja, nada mais é que um conjunto de funções."
      ],
      "metadata": {
        "id": "mm6SGnxMWyco"
      }
    },
    {
      "cell_type": "code",
      "source": [
        "class Carro:\n",
        "  def __init__(self, marca, modelo, ano, peso):\n",
        "    self.marca = marca\n",
        "    self.modelo = modelo\n",
        "    self.ano = ano\n",
        "    self.peso = peso\n",
        "\n",
        "  def ligar_carro(self):\n",
        "    return f'{self.modelo} está ligando'\n",
        "\n",
        "  def desligar_carro(self):\n",
        "    return f'{self.modelo} está desligando'\n",
        "\n",
        "  def acelerar_carro(self):\n",
        "    return f'{self.modelo} está acelerando'"
      ],
      "metadata": {
        "id": "ZevkhUtHXNE-"
      },
      "execution_count": 36,
      "outputs": []
    },
    {
      "cell_type": "markdown",
      "source": [
        "Agora, vamos ter que criar o nosso primeiro objeto de um carro, fazendo da seguinte maneira"
      ],
      "metadata": {
        "id": "OzNEFRf0XRvI"
      }
    },
    {
      "cell_type": "code",
      "source": [
        "carro1 = Carro('chevrolet', 'Celta', 2009, 1000)"
      ],
      "metadata": {
        "id": "AbU4r7oJYycs"
      },
      "execution_count": 37,
      "outputs": []
    },
    {
      "cell_type": "markdown",
      "source": [
        "Agora, esse carro1 que criamos, possui funções e características próprias"
      ],
      "metadata": {
        "id": "f4DjeNxTY0iq"
      }
    },
    {
      "cell_type": "code",
      "source": [
        "print(carro1.acelerar_carro())"
      ],
      "metadata": {
        "colab": {
          "base_uri": "https://localhost:8080/"
        },
        "id": "qwwTZwLsY6-M",
        "outputId": "4c39bec1-d330-4d94-b3d4-d07c978950fa"
      },
      "execution_count": 39,
      "outputs": [
        {
          "output_type": "stream",
          "name": "stdout",
          "text": [
            "Celta está acelerando\n"
          ]
        }
      ]
    },
    {
      "cell_type": "markdown",
      "source": [
        "Então, podemos chamar essas funções em qualquer carro que criarmos a partir de agora.\n",
        "\n",
        "Agora, vamos fazer mais atividades\n",
        "\n",
        "\n",
        "Atividade 1\n",
        "\n",
        "Crie 2 classes com as seguintes características:\n",
        "\n",
        "nome do arquivo : mamiferos.py\n",
        "\n",
        "Classe Cachorro:\n",
        "\n",
        "   - Atributos\n",
        "\n",
        "    nome\n",
        "\n",
        "    raça\n",
        "\n",
        "    cor\n",
        "\n",
        "    Métodos\n",
        "\n",
        "    latir\n",
        "\n",
        "    andar\n",
        "\n",
        "    fazer festa\n",
        "\n",
        "Classe Gato:\n",
        "\n",
        "    - Atributos\n",
        "\n",
        "    nome\n",
        "\n",
        "    raça\n",
        "\n",
        "    cor\n",
        "\n",
        "    Métodos\n",
        "\n",
        "    miar\n",
        "\n",
        "    andar\n",
        "\n",
        "    brincar\n",
        "\n",
        "OBS : este último método deve ter um parâmetro nomeado com valor 'novelo'\n",
        "Atividade 2:\n",
        "\n",
        "Pegue a atividade 1 e padronize ela nos conceitos de type hints, em TUDO\n",
        "Atividade 3:\n",
        "\n",
        "Crie uma classe chamada produto com as seguintes características:\n",
        "\n",
        "nome do arquivo : produto.py\n",
        "\n",
        "    - Atributos\n",
        "\n",
        "    nome\n",
        "\n",
        "    preço\n",
        "\n",
        "    categoria\n",
        "\n",
        "    descrição\n",
        "\n",
        "    Método\n",
        "\n",
        "    reajustar preço\n",
        "\n"
      ],
      "metadata": {
        "id": "BURcNmjeY_Rd"
      }
    },
    {
      "cell_type": "code",
      "source": [],
      "metadata": {
        "id": "kLrEG8KtZRvG"
      },
      "execution_count": null,
      "outputs": []
    }
  ]
}