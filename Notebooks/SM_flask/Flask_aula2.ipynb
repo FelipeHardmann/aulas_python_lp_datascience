{
  "nbformat": 4,
  "nbformat_minor": 0,
  "metadata": {
    "colab": {
      "provenance": []
    },
    "kernelspec": {
      "name": "python3",
      "display_name": "Python 3"
    },
    "language_info": {
      "name": "python"
    }
  },
  "cells": [
    {
      "cell_type": "markdown",
      "source": [
        "#Bem-vindo a aula 2 do Super Módulo de Flask"
      ],
      "metadata": {
        "id": "GxIvWJqmcH9Z"
      }
    },
    {
      "cell_type": "markdown",
      "source": [
        "####Na aula de hoje, daremos continuidade ao Flask\n",
        "\n",
        "Na aula passada, vimos alguns conceitos básicos do Flask, iniciamos um pequeno projetinho com o famoso \"Hello World\" e vimos algumas estuturas diferentes para projetos\n",
        "\n",
        "Na aula de hoje, temos uma pequena atividade para fazer, com os conceitos que vimos nas outras aulas, vamos fazer um pequeno portfolio pessoal, já vimos como renderizar o código HTML com o Flask, então, crie um pequeno portfolio HTML e faça ele ser renderizado com a função *render_template* do Flask."
      ],
      "metadata": {
        "id": "EdWEPV2qsxsD"
      }
    },
    {
      "cell_type": "markdown",
      "source": [
        "Tudo OK, feito essa atividade, vamos agora para aula de hoje, vamos conhecer agora, como colocar variáveis Python dentro da página HTML.\n",
        "\n",
        "Na função *render_template*, temos dois parâmetros, nesse caso, podemos injetar variáveis como parâmetros, da seguinte forma:\n",
        "\n",
        "```\n",
        "@app.route('/')\n",
        "def index():\n",
        "    return render_template('index.html', nome='Felipe Hardmann')\n",
        "```\n",
        "\n",
        "Nesse caso, podemos adicionar essa variável agora no nosso arquivo HTML, basta abrir e fechar, duas chaves, da seguinte forma:\n",
        "\n",
        "{{ nome }}\n",
        "\n",
        "Agora, sempre que renderizarmos o HTML com o *run* do Python, vamos ter o valor que colocamos na variável."
      ],
      "metadata": {
        "id": "FL6BZLbwtv-B"
      }
    },
    {
      "cell_type": "markdown",
      "source": [
        "###Lembrete:\n",
        "\n",
        "Você deve parar os outros servidores Flask que você está executando no momento, se não, haverá conflito e você não irá ver o seu atual."
      ],
      "metadata": {
        "id": "ggPLvm2207BW"
      }
    },
    {
      "cell_type": "markdown",
      "source": [
        "###Debug=True\n",
        "\n",
        "Uma coisa chata que vocẽ já deve sentir codificando até aqui com Flask, é a necessidade de ficarmos toda hora parando e executando nosso servidor a cada alteração, porém, temos a opção de alterarmos isso, utilizando o*debug=True*, na função de *run*.\n",
        "\n",
        "```\n",
        "app.run(debug=True)\n",
        "```"
      ],
      "metadata": {
        "id": "FEDuAk0v1rtG"
      }
    },
    {
      "cell_type": "markdown",
      "source": [
        "###Renderizando Listas Python no HTML"
      ],
      "metadata": {
        "id": "0hJoySSi2yP6"
      }
    },
    {
      "cell_type": "markdown",
      "source": [
        "Agora, vamos sair um pouco do projeto do currículo e vamos criar um novo projeto Python para não bagunçarmos o nosso currículo.\n",
        "\n",
        "Para isso, dentro da nossa função *index*, vamos adicionar uma lista de algo que você queira renderizar, no meu caso, irei utilizar uma lista de times.\n",
        "\n",
        "```\n",
        "@app.route('/')\n",
        "def index():\n",
        "    lista_times = ['Flamengo', 'São Paulo', 'Santos']\n",
        "\n",
        "    return render_template('index.html')\n",
        "```\n",
        "\n",
        "Certo, criado nossa lista de times, vamos precisar colocar essa lista como parâmetro na nossa função *render_template*.\n",
        "\n",
        "```\n",
        "@app.route('/')\n",
        "def index():\n",
        "    lista_times = ['Flamengo', 'São Paulo', 'Santos']\n",
        "\n",
        "    return render_template('index.html', times=lista_times)\n",
        "```\n",
        "\n",
        "O \"times\" nesse caso, é como vamos chamar no nosso arquivo HTML.\n",
        "\n",
        "Agora, precisamos renderizar todos os valores dentro da lista, para isso, precisamos fazer um for no nosso arquivo HTML e vamos fazer da seguinte forma:\n",
        "\n",
        "```\n",
        "{% for time in lista %}\n",
        "<tr>                        \n",
        "    <td>{{ time }}</td>\n",
        "</tr>\n",
        "{% endfor %}\n",
        "```\n",
        "\n",
        "Isso é muito prático porque agora reduzimos a nossa quantidade de código HTML"
      ],
      "metadata": {
        "id": "tBF_t1Nz24aY"
      }
    },
    {
      "cell_type": "markdown",
      "source": [
        "##Criando Classes\n",
        "\n",
        "Perceba que nossa tabela HTML possui outras características, que são o estado e o apelido, nesse caso, podemos criar uma classe para facilitar a chamada desses dados\n",
        "\n",
        "Nesse caso, vamos criar uma classe padrão em Python para simular características de um time.\n",
        "\n",
        "```\n",
        "class Time:\n",
        "    def __init__(self, nome: str, estado: str, apelido: str) -> None:\n",
        "        self.nome = nome\n",
        "        self.estado = estado\n",
        "        self.apelido = apelido\n",
        "```\n",
        "\n",
        "Agora, criada a nossa classe vamos criar instãncias da nossa classe dentro da função *index*.\n",
        "\n",
        "```\n",
        "@app.route('/')\n",
        "def index():\n",
        "    time1 = Time('Flamengo', 'Rio de Janeiro', 'Mengão')\n",
        "    time2 = Time('Palmeiras', 'São Paulo', 'Sem Mundial')\n",
        "    time3 = Time('Fluminense', 'Rio de Janeiro', 'FluminenC')\n",
        "```\n",
        "\n",
        "e agora, na nossa lista, vamos passar as nossas instâncias ao invés de valores fixos.\n",
        "\n",
        "```\n",
        "@app.route('/')\n",
        "def index():\n",
        "    time1 = Time('Flamengo', 'Rio de Janeiro', 'Mengão')\n",
        "    time2 = Time('Palmeiras', 'São Paulo', 'Sem Mundial')\n",
        "    time3 = Time('Fluminense', 'Rio de Janeiro', 'FluminenC')\n",
        "\n",
        "    lista_times = [time1, time2, time3]\n",
        "\n",
        "    return render_template('index.html', lista=lista_times)\n",
        "```\n",
        "\n",
        "Dessa forma, no nosso arquivo HTML, só precisamos chamar os nossos atributos.\n",
        "\n",
        "```\n",
        "{% for time in lista %}\n",
        "<tr>\n",
        "    <td>{{ time.nome }}</td>\n",
        "    <td>{{ time.estado }}</td>\n",
        "    <td>{{ time.apelido }}</td>\n",
        "</tr>\n",
        "{% endfor %}\n",
        "```"
      ],
      "metadata": {
        "id": "q95w-lFm3DmQ"
      }
    },
    {
      "cell_type": "markdown",
      "source": [
        "###Cadastro de dados com Flask\n",
        "\n",
        "Para começar, precisamos entender que sempre que falamos de cadastro de algo, estamos trabalhando com formulários HTML, nesse caso, vamos criar nosso formulário.\n",
        "\n",
        "```\n",
        "    <form action=\"\">\n",
        "        <label for=\"\">Nome do Time: </label>\n",
        "        <input type=\"text\">\n",
        "\n",
        "        <label for=\"\">Estado: </label>\n",
        "        <input type=\"text\">\n",
        "\n",
        "        <label for=\"\">Apelido: </label>\n",
        "        <input type=\"text\">\n",
        "\n",
        "        <button type=\"submit\">Cadastrar</button>\n",
        "    </form>\n",
        "```"
      ],
      "metadata": {
        "id": "XCWJ7mIiIJP7"
      }
    },
    {
      "cell_type": "markdown",
      "source": [
        "Agora, precisamos fazer uma validação, perceba que ao clicar no botão de cadastrar, aparece uma \"?\" na nossa URL, isso acontece porque aquela URL está esperando parâmetros, que vão ser os valores passados no INPUT.\n",
        "\n",
        "Agora, para aparecer os valores, vamos utilizar o atributo *name* dentro dos nossos *inputs*.\n",
        "\n",
        "```\n",
        "    <form>\n",
        "        <label for=\"\">Nome do Time: </label>\n",
        "        <input type=\"text\" name=\"nome\">\n",
        "\n",
        "        <label for=\"\">Estado: </label>\n",
        "        <input type=\"text\" name=\"estado\">\n",
        "\n",
        "        <label for=\"\">Apelido: </label>\n",
        "        <input type=\"text\" name=\"apelido\">\n",
        "\n",
        "        <button type=\"submit\">Cadastrar</button>\n",
        "    </form>\n",
        "```\n",
        "\n",
        "Agora, ainda está faltando algo, que no caso, por padrão a tag *form* vem do tipo *GET*, porém, não do *GET* que precisamos e sim do *POST*, como vimos na aula 1 de Flask, o *POST* serve para enviar dados.\n",
        "\n",
        "```\n",
        "    <form method=\"post\">\n",
        "        <label for=\"\">Nome do Time: </label>\n",
        "        <input type=\"text\" name=\"nome\">\n",
        "\n",
        "        <label for=\"\">Estado: </label>\n",
        "        <input type=\"text\" name=\"estado\">\n",
        "\n",
        "        <label for=\"\">Apelido: </label>\n",
        "        <input type=\"text\" name=\"apelido\">\n",
        "\n",
        "        <button type=\"submit\">Cadastrar</button>\n",
        "    </form>\n",
        "```"
      ],
      "metadata": {
        "id": "Ft6SvjtZWQBF"
      }
    },
    {
      "cell_type": "markdown",
      "source": [
        "####Criando rota para cadastrar time\n",
        "\n",
        "No nosso arquivo app.py, vamos criar a nossa função para renderizar o template\n",
        "\n",
        "```\n",
        "@app.route('/cadastrar')\n",
        "def cadastrar():\n",
        "    return render_template('cadastrar_time.html')\n",
        "```"
      ],
      "metadata": {
        "id": "8zj_sGu0WyZS"
      }
    },
    {
      "cell_type": "markdown",
      "source": [
        "###Criando rota para recuperar valores cadastrados\n",
        "\n",
        "Vamos criar agora uma rota que vai fazer o cadastro desses times.\n",
        "\n",
        "```\n",
        "@app.route('/adicionar')\n",
        "def adicionar_time():\n",
        "  ...\n",
        "```\n",
        "\n",
        "Agora, para darmos continuidade, precisamos importar mais uma coisa do Flask, que a lib *request*, essa lib vai servir para pegar a requisição e agora vamos entender a importância do *name* nos *input's* do HTML\n",
        "\n",
        "```\n",
        "@app.route('/adicionar')\n",
        "def adicionar_time():\n",
        "    nome = request.form['nome']\n",
        "    estado = request.form['estado']\n",
        "    apelido = request.form['apelido']\n",
        "```\n",
        "\n",
        "Certo, agora, precisamos adicionar na nossa lista, porém, tem um problema, a nossa lista só é visualizada dentro da função index, para isso, vamos colocar nossa lista fora da função, da seguinte forma\n",
        "\n",
        "```\n",
        "time1 = Time('Flamengo', 'Rio de Janeiro', 'Mengão')\n",
        "time2 = Time('Palmeiras', 'São Paulo', 'Sem Mundial')\n",
        "time3 = Time('Fluminense', 'Rio de Janeiro', 'FluminenC')\n",
        "\n",
        "lista_times = [time1, time2, time3]\n",
        "\n",
        "\n",
        "@app.route('/')\n",
        "def index():\n",
        "    return render_template('index.html', lista=lista_times)\n",
        "```\n",
        "\n",
        "Assim, podemos agora adicionar o novo valor na minha lista, retornando já o template que queremos.\n",
        "\n",
        "```\n",
        "@app.route('/adicionar')\n",
        "def adicionar_time():\n",
        "    nome = request.form['nome']\n",
        "    estado = request.form['estado']\n",
        "    apelido = request.form['apelido']\n",
        "\n",
        "    novoTime = Time(nome=nome, estado=estado, apelido=apelido)\n",
        "\n",
        "    lista_times.append(novoTime)\n",
        "\n",
        "    return render_template('index.html', lista=lista_times)\n",
        "```\n",
        "\n",
        "Porém, se você fizer o teste, ainda não vai estar funcionando, isso acontece porque precisamos mudar algumas coisas, lá no nosso form, definimos o nosso metódo, mas precisamos definir também a nossa ação.\n",
        "\n",
        "Ou seja, vamos colocar da seguinte forma:\n",
        "\n",
        "```\n",
        "    <form method=\"post\" action=\"/adicionar\">\n",
        "        <label for=\"\">Nome do Time: </label>\n",
        "        <input type=\"text\" name=\"nome\">\n",
        "\n",
        "        <label for=\"\">Estado: </label>\n",
        "        <input type=\"text\" name=\"estado\">\n",
        "\n",
        "        <label for=\"\">Apelido: </label>\n",
        "        <input type=\"text\" name=\"apelido\">\n",
        "\n",
        "        <button type=\"submit\">Cadastrar</button>\n",
        "    </form>\n",
        "```"
      ],
      "metadata": {
        "id": "dMntfXMIYxY9"
      }
    },
    {
      "cell_type": "markdown",
      "source": [
        "Porém, isso ainda não vai fazer o nosso formulário funcionar, isso acontece porque precisamos informar como os dados irão vir para o Python, fazendo da seguinte forma:\n",
        "\n",
        "```\n",
        "@app.route('/adicionar', methods=['POST',])\n",
        "def adicionar_time():\n",
        "    nome = request.form['nome']\n",
        "    estado = request.form['estado']\n",
        "    apelido = request.form['apelido']\n",
        "\n",
        "    novoTime = Time(nome=nome, estado=estado, apelido=apelido)\n",
        "\n",
        "    lista_times.append(novoTime)\n",
        "\n",
        "    return render_template('index.html', lista=lista_times)\n",
        "```\n",
        "\n",
        "Lembre-se, o parâmetro é *methods*, com \"s\" no final, diferente do HTML."
      ],
      "metadata": {
        "id": "QIm7Uy4tccco"
      }
    }
  ]
}