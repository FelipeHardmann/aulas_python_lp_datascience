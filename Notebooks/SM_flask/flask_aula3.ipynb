{
  "nbformat": 4,
  "nbformat_minor": 0,
  "metadata": {
    "colab": {
      "provenance": []
    },
    "kernelspec": {
      "name": "python3",
      "display_name": "Python 3"
    },
    "language_info": {
      "name": "python"
    }
  },
  "cells": [
    {
      "cell_type": "markdown",
      "source": [
        "#Bem-vindo a aula 3 do Super Módulo de Flask\n",
        "\n",
        "**Na aula de hoje daremos continuidade ao aprendizado de Flask**\n",
        "\n",
        "Na aula passada vimos novos conceitos em aplicações com o framework Flask, como renderizações de *Templates* com o Flask, integrações de Python com o HTML, renderização de Listas e entre outros assuntos.\n",
        "\n",
        "Na aula passada, criamos um pequeno projeto onde o usuário estava conseguindo cadastrar alguns time em uma lista e renderizando essa lista em uma tabela no HTML.\n",
        "\n",
        "Na aula de hoje, vamos buscar deixar o nosso projeto cada vez mais robusto."
      ],
      "metadata": {
        "id": "MV-FeSInuqc5"
      }
    },
    {
      "cell_type": "markdown",
      "source": [
        "##Ajuste de um pequeno problema"
      ],
      "metadata": {
        "id": "KjvlK1dSx7Wv"
      }
    },
    {
      "cell_type": "markdown",
      "source": [
        "O primeiro problema que temos na nossa aplicação é o seguinte, se você for na rota de */cadastrar* e cadastrar um item nela, você será redirecionado para a rota de */adicionar* que nesse caso, essa rota chama a lista de times. Nesse caso, se você apertar **F5** nessa tela, vai perceber que temos um pequeno problema, que no caso, a nossa aplicação ficar cadastrando os times novamente, para modificarmos isso, precisamos fazer uma leve alteração no *return* da nossa rota de adicionar, portanto, lá na nossa importação, vamos importar mais uma pequena função, chamada de *redirect*, essa função vai servir basicamente que igual ao *render_template*, porém essa função não armazena os dados antigos, então, agora, podemos usar o **F5** no nosso navegador e não teremos problema, isso acontece porque a função *redirect* envia uma resposta de 302 para o navegador e o isso é uma resposta de redirecionamento, ou seja, o navegador já entende que a página seria uma outra rota e que os dados das requisições antigas já não valem mais, estão armazenados apenas a nível de backend."
      ],
      "metadata": {
        "id": "v3HBANxSyZoh"
      }
    },
    {
      "cell_type": "markdown",
      "source": [
        "Agora, para deixarmos o nosso projeto um pouco mais robusto, vamos criar uma nova tela, que será a tela de *login*."
      ],
      "metadata": {
        "id": "SDQVSztU5COX"
      }
    },
    {
      "cell_type": "markdown",
      "source": [
        "Portanto, agora, você deve criar uma tela de *login*, criando em um novo arquivo *HTML* e tente também, criar uma rota para essa tela de *login*"
      ],
      "metadata": {
        "id": "B_Zr4RSt_op1"
      }
    },
    {
      "cell_type": "markdown",
      "source": [
        "Agora, criado a nossa tela de *login*, vamos criar uma pequena \"autenticação\", essa autenticação vai acontecer de forma bem simples, já que não estamos utilizando banco de dados."
      ],
      "metadata": {
        "id": "hYbHUw9YKjQt"
      }
    },
    {
      "cell_type": "markdown",
      "source": [
        "Vamos, então, chamar a nossa tela de *login*\n",
        "\n",
        "```\n",
        "@app.route('/login')\n",
        "def login():\n",
        "    return render_template('login.html')\n",
        "```\n",
        "\n",
        "Porém, como falamos na última aula, temos um pequeno problema ainda no nosso código, o primeiro, é que precisamos de uma rota para autenticar o usuário, ou seja, verificar a senha dele ou o nome dele, portanto, vamos criar essa pequena autenticação.\n",
        "\n",
        "```\n",
        "@app.route('/autenticar')\n",
        "def autenticar():\n",
        "    if request.form['senha'] == 'admin':\n",
        "        return redirect('/')\n",
        "    return redirect('/login')\n",
        "```\n",
        "\n",
        "Visto isso, como também vimos na aula passada, temos um pequeno problema ainda na parte da segurança, isso acontece por conta da *tag* *form* ainda estar no padrão do método *GET*.\n",
        "\n",
        "Então, devemos modificar esse método e adicionar a ação que vimos na aula passada."
      ],
      "metadata": {
        "id": "q1GHvlewK_QA"
      }
    },
    {
      "cell_type": "markdown",
      "source": [
        "Então, nossa tag *form* deve estar da seguinte maneira:\n",
        "\n",
        "```\n",
        "<form method=\"post\" action=\"/autenticar\">\n",
        "```\n",
        "\n",
        "Assim, ela vai executar o método *POST* e vai chamar a nossa rota de */autenticar*\n",
        "\n",
        "Porém, agora também precisamos informar para o Python qual é o método que HTTP que ele deve exeutar, alterando assim a nossa rota de */autenticar*\n",
        "\n",
        "```\n",
        "@app.route('/autenticar', methods=['POST',])\n",
        "def autenticar():\n",
        "    if request.form['senha'] == 'admin':\n",
        "        return redirect('/')\n",
        "    return redirect('/login')\n",
        "```\n",
        "\n",
        "Agora sim, nosso usuário vai conseguir *logar* no site."
      ],
      "metadata": {
        "id": "_7QroF3FOke7"
      }
    },
    {
      "cell_type": "markdown",
      "source": [
        "###Criando sessão para o usuário\n",
        "\n",
        "Agora, vamos criar uma sessão para o usuário, para começarmos isso, precisamos, primeiro, importar mais uma biblioteca do Flask, que é a *session*, então, nossas importações estão da seguinte maneira.\n",
        "\n",
        "```\n",
        "from flask import Flask, render_template, request, redirect, session\n",
        "```\n",
        "\n",
        "Porém, antes de adicionarmos essa *session*, temos que entender que todo projeto web existe uma *key*(chave) que nada mais é do que uma chave de verificação, ela serve para dar segurança e autenticação para o nosso projeto.\n",
        "\n",
        "A nossa classe *Flask*, possui alguns atributos, um desses atributos é o secret_key, então podemos gerar uma chave, com o valor que quisermos, da seguinte maneira:\n",
        "\n",
        "```\n",
        "app.secret_key = 'aprendendoflask'\n",
        "```\n",
        "\n",
        "Agora, importada a nossa biblioteca, vamos alterar mais um pouco a nossa função de autenticar.\n",
        "\n",
        "Dentro da nossa condição, caso o usuário passe a senha correta, vamos criar uma sessão para o usuário, da seguinte maneira:\n",
        "\n",
        "```\n",
        "@app.route('/autenticar', methods=['POST',])\n",
        "def autenticar():\n",
        "    if request.form['senha'] == 'admin':\n",
        "        session['usuario_logado'] = request.form['login']\n",
        "        return redirect('/')\n",
        "    return redirect('/login')\n",
        "```\n",
        "\n",
        "Agora, esse 'usuario_logado' é o nome da nossa sessão que no caso, vai receber o nome do usuário."
      ],
      "metadata": {
        "id": "ylW-5VdkPSML"
      }
    },
    {
      "cell_type": "markdown",
      "source": [
        "###Finalizando sessão do usuário\n",
        "\n",
        "Assim como criamos uma rota para autenticar e criar a sessão do usuário, devemos também, criar uma rota para finalizarmos essa sessão e podemos fazer da seguinte maneira:\n",
        "\n",
        "```\n",
        "@app.route('/sair')\n",
        "def sair():\n",
        "    session['usuario_logado'] = None\n",
        "\n",
        "    return redirect('/login')\n",
        "```\n",
        "\n",
        "Dessa forma, se passarmos a rota de sair na nossa aplicação, teremos a sessão \"encerrada\", porém, ainda não criamos algo visual para isso."
      ],
      "metadata": {
        "id": "ZFJcc-m_UviV"
      }
    },
    {
      "cell_type": "markdown",
      "source": [
        "###Estilização da nossa aplicação\n",
        "\n",
        "Podemos criar nossas aplicações com HTML e CSS na mão grande?\n",
        "\n",
        "Sim, podemos e isso não deixar de ser uma prática do mercado, porém, temos uma forma de diminuir os nossos códigos podemos utilizar alguns frameworks e bibliotecas de front-end, no nosso caso, a mais famosa para aplicações web com Flask e Django é o framework bootstrap e aqui está algumas características do bootstrap:\n",
        "\n",
        "Bootstrap é um framework front-end de código aberto que facilita o desenvolvimento de sites e aplicativos web responsivos e modernos. Criado inicialmente por desenvolvedores do Twitter, ele fornece um conjunto de ferramentas que incluem **CSS, JavaScript, e componentes de interface de usuário** (UI) pré-construídos, como botões, formulários, navegações, modais, e muito mais.\n",
        "\n",
        "### Principais Características:\n",
        "1. **Responsividade:** Bootstrap usa um sistema de grid responsivo que facilita a criação de layouts que se adaptam automaticamente a diferentes tamanhos de tela, desde desktops até dispositivos móveis.\n",
        "\n",
        "2. **Componentes Prontos:** Oferece uma ampla gama de componentes pré-estilizados e prontos para uso, como botões, cartões, navegação, barras de progresso, carrosséis, etc., o que acelera o desenvolvimento.\n",
        "\n",
        "3. **Customização:** Embora venha com um estilo padrão, Bootstrap pode ser facilmente customizado para se alinhar à identidade visual do seu projeto.\n",
        "\n",
        "4. **Compatibilidade entre Navegadores:** Bootstrap é amplamente testado em diversos navegadores, garantindo que seu site funcione de forma consistente em diferentes ambientes.\n",
        "\n",
        "5. **Integração com JavaScript:** Inclui uma série de plugins JavaScript para adicionar interatividade aos componentes, como modais, carrosséis e dropdowns, sem a necessidade de escrever muito código.\n",
        "\n",
        "### Por que Usar Bootstrap?\n",
        "- **Rapidez no Desenvolvimento:** Facilita a criação rápida de layouts responsivos e funcionalidade básica de UI.\n",
        "- **Consistência:** Garante um visual consistente e profissional em todo o site ou aplicativo.\n",
        "- **Documentação Completa:** Possui uma documentação extensa e bem-organizada, com exemplos práticos e detalhados.\n",
        "\n",
        "Bootstrap é ideal tanto para desenvolvedores iniciantes quanto para experientes, permitindo criar interfaces de usuário elegantes com menos esforço e em menos tempo."
      ],
      "metadata": {
        "id": "mjJB_5LhX-ZH"
      }
    },
    {
      "cell_type": "markdown",
      "source": [
        "Certo, agora como utilizamos ele?\n",
        "\n",
        "Temos algumas formas para isso, podemos utilizar via CDN ou podemos fazer o download do framework, vou deixar o link para vocẽ entender um pouco mais sobre ele\n",
        "\n",
        "https://getbootstrap.com/"
      ],
      "metadata": {
        "id": "eaSpqxwObM-c"
      }
    }
  ]
}