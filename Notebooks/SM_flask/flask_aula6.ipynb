{
  "nbformat": 4,
  "nbformat_minor": 0,
  "metadata": {
    "colab": {
      "provenance": []
    },
    "kernelspec": {
      "name": "python3",
      "display_name": "Python 3"
    },
    "language_info": {
      "name": "python"
    }
  },
  "cells": [
    {
      "cell_type": "markdown",
      "source": [
        "#Bem-vindo a aula 6 do Super Módulo de Flask\n",
        "\n",
        "\n",
        "**Resumo**:\n",
        "\n",
        "Nas últimas aulas vimos muito sobre o desenvolvimento full-stack, onde estavamos fazendo um sistema monolítico, onde o front-end e back-end são misturados dentro da aplicação.\n",
        "\n",
        "Porém, existe um outro tipo de desenvolvimento que podemos fazer com o **_Flask_**, que é a criação de *API'S*"
      ],
      "metadata": {
        "id": "N3R4dsYc1MJD"
      }
    },
    {
      "cell_type": "markdown",
      "source": [
        "#API"
      ],
      "metadata": {
        "id": "HSi8NYZ5TTvw"
      }
    },
    {
      "cell_type": "markdown",
      "source": [
        "Bom, o termo API significa *Application Programming Interface* ou interface de programação de aplicações, a API é um cojunto de ferramentas, definições e protocolos que permite que duas aplicações conversem entre si.\n",
        "\n",
        "Uma API se comunica através de solicitações e respostas, isso acontece pelo protocolo HTTP, que é o protocolo da internet, que possuem um conjunto de regras para fazer com que o computador converse com o cliente.\n",
        "\n",
        "Além disso, nós temos quatro maneiras diferentes de criar uma API, que são essas abaixo:\n",
        "\n",
        "- **API SOAP**:\n",
        "    - Essas APIs usam o Simple Object Access Protocol (Protocolo de Acesso a Objetos Simples). Cliente e servidor trocam mensagens usando XML. Esta é uma API menos flexível que era mais popular no passado.\n",
        "- **APIs RPC**\n",
        "    - Essas APIs são conhecidas como Remote Procedure Calls (Chamadas de Procedimento Remoto). O cliente conclui uma função (ou um procedimento) no servidor e o servidor envia a saída de volta ao cliente.\n",
        "- **APIs WebSocket**\n",
        "    - A **APIs WebSocket** é outro desenvolvimento de API da Web moderno que usa objetos JSON para transmitir dados. Uma API WebSocket oferece suporte à comunicação\n",
        "    bidirecional entre aplicativos cliente e o servidor. O servidor pode\n",
        "    enviar mensagens de retorno de chamada a clientes conectados, tornando-o\n",
        "    mais eficiente que a API REST.\n",
        "- **APIs REST**\n",
        "    - Essas são as APIs mais populares e flexíveis encontradas na Web atualmente. O cliente envia solicitações ao servidor como dados. O servidor usa essa entrada do cliente para iniciar funções internas e retorna os dados de saída ao cliente. Vejamos as APIs REST em mais detalhes abaixo.\n",
        "\n",
        "Na aula de hoje, veremos a construção de uma API Rest.\n",
        "\n",
        "### API Rest\n",
        "\n",
        "Já entendemos o que é uma API, agora vamos entender o que é Rest.\n",
        "\n",
        "Rest significa *Representational State Transfer,* ou seja, transferência de representação de estado. Nesse caso, o Rest é afinal de contas uma arquitetura que devemos seguir quando estamos criando nossas API’s.\n",
        "\n",
        "A ideia do Rest foi proposta por Roy Fielding, que também é responsável pela técnica HTTP, a ideia do princípio Rest é utilizar da melhor e mais eficiente forma o protocolo HTTP.\n",
        "\n",
        "Nesse sentido, devemos usar os verbos HTTP.\n",
        "\n",
        "1. **GET**: indica que um recurso será recuperado do servidor. Por exemplo, quando você solicita uma página pelo seu browser;\n",
        "2. **POST**: indica que um recurso será inserido ou criado no servidor. Um upload de um novo arquivo, por exemplo;\n",
        "3. **PUT**: indica que um recurso será atualizado no servidor. Seria equivalente a um *update* em uma base de dados;\n",
        "4. **DELETE**: indica que um recurso será removido do servidor. Seria o equivalente a um *delete* em uma base de dados.\n",
        "\n",
        "Esses acima são apenas alguns dos verbos que nós temos no protocolo HTTP."
      ],
      "metadata": {
        "id": "p_ImEYxA8IBt"
      }
    },
    {
      "cell_type": "markdown",
      "source": [
        "##Iniciando o projeto"
      ],
      "metadata": {
        "id": "1cp5AozU9Cc8"
      }
    },
    {
      "cell_type": "markdown",
      "source": [
        "Agora, assim como fizemos nas outras aulas de Flask, precisamos também, fazer as instalações do projeto *Flask*.\n",
        "\n",
        "- Linux\n",
        "\n",
        "\n",
        "```\n",
        "python -m venv .venv\n",
        "\n",
        "source .venv/bin/activate\n",
        "\n",
        "pip install flask\n",
        "\n",
        "pip install flask_sqlalchemy\n",
        "\n",
        "pip install mysql-connector-python\n",
        "\n",
        "pip install mysqlclient\n",
        "```\n",
        "\n",
        "- Windows\n",
        "\n",
        "```\n",
        "python -m venv .venv\n",
        "\n",
        ".venv\\Scripts\\activate\n",
        "\n",
        "pip install flask\n",
        "\n",
        "pip install flask_sqlalchemy\n",
        "\n",
        "pip install mysql-connector-python\n",
        "\n",
        "pip install mysqlclient\n",
        "```"
      ],
      "metadata": {
        "id": "90-wVA8J9T31"
      }
    },
    {
      "cell_type": "markdown",
      "source": [
        "Agora, instalado nossos pacotes, vamos agora criar o nosso primeiro arquivo\n",
        "\n",
        "*app.py*"
      ],
      "metadata": {
        "id": "tz1JcCW39hlG"
      }
    },
    {
      "cell_type": "markdown",
      "source": [
        "Criado nosso arquivo, agora, vamos precisar fazer as importações dentro do nosso arquivo\n",
        "\n",
        "```\n",
        "from flask import Flask, Response, request\n",
        "from flask_sqlalchemy import SQLAlchemy\n",
        "import _mysql_connector\n",
        "import json\n",
        "```"
      ],
      "metadata": {
        "id": "S-DRbax3BEfU"
      }
    },
    {
      "cell_type": "markdown",
      "source": [
        "Vamos entender de forma rápida o que cada um faz:\n",
        "\n",
        "1. **`from flask import Flask, Response, Request`**:\n",
        "   - **`Flask`**: Classe principal do framework Flask, usada para criar e configurar a aplicação web. É o ponto de entrada para definir rotas, gerenciar solicitações e respostas.\n",
        "   - **`Response`**: Classe que representa a resposta HTTP enviada pelo servidor Flask ao cliente. Permite configurar o corpo da resposta, cabeçalhos, status e tipo de conteúdo.\n",
        "   - **`Request`**: Classe que encapsula a solicitação HTTP recebida pelo servidor Flask. Contém dados como parâmetros, cabeçalhos, cookies e corpo da solicitação (e.g., JSON, form data).\n",
        "\n",
        "2. **`from flask_sqlalchemy import SQLAlchemy`**:\n",
        "   - **`SQLAlchemy`**: Uma extensão do Flask que fornece uma interface de ORM (Object-Relational Mapping), facilitando a interação com bancos de dados relacionais. Com essa classe, você pode definir e manipular tabelas do banco de dados por meio de classes Python (modelos) em vez de escrever SQL manualmente.\n",
        "\n",
        "3. **`import mysql.connector`**:\n",
        "   - **`mysql.connector`**: Biblioteca que permite conectar sua aplicação Python diretamente a um banco de dados MySQL, executar consultas e manipular dados no banco. É usada para uma conexão direta ao MySQL sem a necessidade de um ORM como o SQLAlchemy.\n",
        "\n",
        "4. **`import json`**:\n",
        "   - **`json`**: Biblioteca padrão do Python para trabalhar com dados no formato JSON (JavaScript Object Notation). Permite converter objetos Python (como dicionários e listas) para strings JSON e vice-versa, facilitando a troca de dados entre o servidor e o cliente.\n",
        "\n",
        "Essas classes e importações permitem construir uma aplicação web com Flask, manipular bancos de dados MySQL e gerenciar dados JSON de forma eficiente."
      ],
      "metadata": {
        "id": "I1JMavvWCq4c"
      }
    },
    {
      "cell_type": "markdown",
      "source": [
        "Agora, já sabemos que a primeira coisa que temos que criar é a nossa aplicação\n",
        "\n",
        "\n",
        "```\n",
        "app = Flask(__name__)\n",
        "```\n",
        "\n",
        "Agora, precisamos adicionar a chave do SQLAlchemy\n",
        "\n",
        "```\n",
        "app.config['SQLALCHEMY_DATABASE_URI'] = \\\n",
        "    '{SGBD}://{user}:{password}@{server}/{database}'.format(\n",
        "        SGBD='mysql+mysqlconnector',\n",
        "        user='root',\n",
        "        password='admin',\n",
        "        server='localhost',\n",
        "        database='turma'\n",
        ")\n",
        "```"
      ],
      "metadata": {
        "id": "A-dpOgxUDVgr"
      }
    },
    {
      "cell_type": "markdown",
      "source": [
        "Porém, hoje vamos utilizar mais uma chave em nosso projeto, que é a seguinte:\n",
        "\n",
        "```\n",
        "app.config['SQLALCHEMY_TRACK_MODIFICATIONS'] = True\n",
        "```\n",
        "\n",
        "Essa linha faz com que o SQLAlchemy rastreie as modificações feitas nos objetos do banco de dados, emitindo sinais sempre que houver mudanças, porém, essa chave não é muito recomendada para projetos grandes, por padrão, ela fica definida como False, já que utilizar essa chave faz com que sua aplicação aumente o custo de memória."
      ],
      "metadata": {
        "id": "SmZeNzuHEUru"
      }
    },
    {
      "cell_type": "markdown",
      "source": [
        "Feito isso, agora, vamos partir para o nosso *CRUD*, que se encaixa nas seguintes funções\n",
        "\n",
        "- Selecionar Tudo\n",
        "- Selecionar somente um\n",
        "- Cadastrar\n",
        "- Atualizar\n",
        "- Deletar"
      ],
      "metadata": {
        "id": "Z-JE7TvqFFTF"
      }
    },
    {
      "cell_type": "markdown",
      "source": [
        "##Modelos\n",
        "\n",
        "Mas, para conseguirmos executar o nosso *CRUD* 100% completo, precisamos primeiro criar os *models* da nossa aplicação, que são as nossas tabelas utilizando o SQLAlchemy, portanto, vamos criar nossa classe de Aluno:\n",
        "\n",
        "```\n",
        "class Aluno(db.Model):\n",
        "    __tablename__ = 'alunos'\n",
        "\n",
        "    id = db.Column(db.Integer, primary_key=True)\n",
        "    nome = db.Column(db.String(100), nullable=False)\n",
        "    email = db.Column(db.String(100))\n",
        "```\n",
        "\n",
        "**OBS**: Você não precisa passar necessariamente o __ __tablename__ __, porque o SQLAlchemy pega o nome da classe e já atribui a tabela, vamos fazer outra classe sem __ __tablename__ __, professor\n",
        "\n",
        "```\n",
        "class Professor(db.Model):\n",
        "    id = db.Column(db.Integer, primary_key=True)\n",
        "    nome = db.Column(db.String(100), nullable=False)\n",
        "    email = db.Column(db.String(100), nullable=False)\n",
        "```"
      ],
      "metadata": {
        "id": "8dv9AillFayi"
      }
    },
    {
      "cell_type": "markdown",
      "source": [
        "Feito isso, temos agora duas formas de criar nossas tabelas no nosso nosso Banco de dados. Podemos ir por linha de comando do terminal\n",
        "\n",
        "```\n",
        "python\n",
        "\n",
        "from app import db\n",
        "\n",
        "db.create_all()\n",
        "```\n",
        "\n",
        "Ou podemos utilizar\n",
        "\n",
        "```\n",
        "with app.app_context():\n",
        "    db.create_all()\n",
        "```\n",
        "\n",
        "Quando você chama db.create_all(), o SQLAlchemy precisa acessar a configuração do banco de dados e outros elementos que estão armazenados no contexto da aplicação (como o app.config)\n",
        "\n",
        "Qualquer um dos dois métodos vai funcionar."
      ],
      "metadata": {
        "id": "xTP2Dpk0IviW"
      }
    },
    {
      "cell_type": "markdown",
      "source": [
        "###Primeiro endpoint\n",
        "\n",
        "O primeiro endpoint que vamos criar é o de selecionar todos os alunos.\n",
        "\n",
        "Para isso, vamos chamar o nosso @app.route()\n",
        "\n",
        "```\n",
        "@app.route('/alunos', methods=['GET'])\n",
        "def selecionar_alunos():\n",
        "  ...\n",
        "```\n",
        "\n",
        "Certo, agora, para puxarmos os dados do banco de dados, precisamos utilizar o nosso *db*, porém, a nossa classe de Alunos, já é uma herança de *db*, portanto vamos utilizar ela.\n",
        "\n",
        "```\n",
        "@app.route('/alunos', methods=['GET'])\n",
        "def selecionar_alunos():\n",
        "    alunos = Aluno.query.all()\n",
        "\n",
        "    print(alunos)\n",
        "    return Response()\n",
        "```\n",
        "\n",
        "Agora, em algum ambiente, ou insomnia ou Postman ou a própria extensão do Thunder client, vamos chamar o nosso endpoint.\n",
        "\n",
        "No seu terminal, ao fazer a requisição, você deve receber algo como:\n",
        "\n",
        " * Debug mode: off\n",
        "WARNING: This is a development server. Do not use it in a production deployment. Use a production WSGI server instead.\n",
        " * Running on http://127.0.0.1:5000\n",
        "Press CTRL+C to quit\n",
        "[]\n",
        "127.0.0.1 - - [09/Sep/2024 16:50:18] \"GET /alunos HTTP/1.1\" 200 -"
      ],
      "metadata": {
        "id": "MAY64eExJsYi"
      }
    },
    {
      "cell_type": "markdown",
      "source": [
        "Você já deve ter visto que recebemos uma lista vazia, por isso, vamos fazer o cadastro de forma manual de um aluno no SQL."
      ],
      "metadata": {
        "id": "jD_H0aM_Wlef"
      }
    },
    {
      "cell_type": "markdown",
      "source": [
        "Agora, cadastrado esse Aluno, quando você fizer a mesma requisição você deve receber uma lista com Aluno1, isso significa que ele está trazendo o objeto de alunos e precisamos modificar isso."
      ],
      "metadata": {
        "id": "DyNxum7yWyXm"
      }
    },
    {
      "cell_type": "markdown",
      "source": [
        "Certo, pra isso, a primeira coisa que precisamos fazer, é ter um método para converter nosso objeto Python em JSON, para isso, vamos na nossa classe Aluno e criar o nosso método\n",
        "\n",
        "```\n",
        "class Aluno(db.Model):\n",
        "    __tablename__ = 'alunos'\n",
        "\n",
        "    id = db.Column(db.Integer, primary_key=True)\n",
        "    nome = db.Column(db.String(100), nullable=False)\n",
        "    email = db.Column(db.String(100))\n",
        "\n",
        "    def to_json(self):\n",
        "        return {\n",
        "            'id': self.id,\n",
        "            'nome': self.nome,\n",
        "            'email': self.email\n",
        "        }\n",
        "```"
      ],
      "metadata": {
        "id": "9TjMVS6zXEqQ"
      }
    },
    {
      "cell_type": "markdown",
      "source": [
        "Agora, voltando a nossa rota, vamos ter que aplicar o to_json() em todos os objetos da minha lista, para isso, teríamos que percorrer a nossa lista, então, podemos utilizar o list comprehension do Python.\n",
        "\n",
        "```\n",
        "@app.route('/alunos', methods=['GET'])\n",
        "def selecionar_alunos():\n",
        "    alunos = Aluno.query.all()\n",
        "    alunos_json = [aluno.to_json() for aluno in alunos]\n",
        "```\n",
        "\n",
        "Agora, precisamos retornar esse json, porém, não podemos colocar simplesmente no Response o nosso alunos_json()\n",
        "\n",
        "Precisamos transformar esse dicionário Python no JSON, por isso, utilizamos os JSON dumps no nosso alunos_json.\n",
        "\n",
        "```\n",
        "@app.route('/alunos', methods=['GET'])\n",
        "def selecionar_alunos():\n",
        "    alunos = Aluno.query.all()\n",
        "    alunos_json = [aluno.to_json() for aluno in alunos]\n",
        "\n",
        "    return Response(json.dumps(alunos_json))\n",
        "```\n",
        "\n",
        "E com isso, nossa rota já deve estar funcionando de maneira correta."
      ],
      "metadata": {
        "id": "R9hnxY_pZt-Z"
      }
    },
    {
      "cell_type": "markdown",
      "source": [
        "####Modificando nosso *Response*\n",
        "\n",
        "Perceba que agora vamos ter que utilizar o Response em todos os endpoint, porque ele é a resposta do servidor ao cliente.\n",
        "\n",
        "Então, é bom mudarmos o nosso response, para ficar mais simples para os clientes que forem consumir nossa *API*, informando a tabela em questão, a mensagem de erro e etc."
      ],
      "metadata": {
        "id": "rMAQCpQLZ8j0"
      }
    },
    {
      "cell_type": "markdown",
      "source": [
        "\n",
        "```\n",
        "def gera_response(status, nome_do_conteudo, conteudo, mensagem=False):\n",
        "    body = {}\n",
        "    body[nome_do_conteudo] = conteudo\n",
        "\n",
        "    if mensagem:\n",
        "        body[\"mensagem\"] = mensagem\n",
        "\n",
        "    return Response(\n",
        "        json.dumps(body),\n",
        "        status=status,\n",
        "        mimetype=\"application/json\"\n",
        "    )\n",
        "```"
      ],
      "metadata": {
        "id": "_fnubMDIbgD3"
      }
    },
    {
      "cell_type": "markdown",
      "source": [
        "Agora, no nosso endpoint de selecionar alunos, vamos modificar a resposta\n",
        "\n",
        "```\n",
        "@app.route('/alunos', methods=['GET'])\n",
        "def selecionar_alunos():\n",
        "    alunos = Aluno.query.all()\n",
        "    alunos_json = [aluno.to_json() for aluno in alunos]\n",
        "\n",
        "    return gera_response(200, 'alunos', alunos_json, 'ok')\n",
        "```"
      ],
      "metadata": {
        "id": "zh2uZeu7bz88"
      }
    },
    {
      "cell_type": "markdown",
      "source": [
        "###Selecionar somente 1 aluno\n",
        "\n",
        "Para isso, precisamos chamar o dado que é a referência de cada aluno que é a nossa primary key\n",
        "\n",
        "```\n",
        "@app.route('/aluno/<id>')\n",
        "def selecionar_aluno(id):\n",
        "```\n",
        "\n",
        "Chamada a nossa primary key como paramêtro, precisamos agora chamar com SQLAlchemy\n",
        "\n",
        "```\n",
        "@app.route('/aluno/<id>')\n",
        "def selecionar_aluno(id):\n",
        "    aluno = Aluno.query.filter_by(id=id).first()\n",
        "```\n",
        "\n",
        "Depois disso, podemos converter esse dado para json e gerar nossa resposta.\n",
        "\n",
        "```\n",
        "@app.route('/aluno/<id>')\n",
        "def selecionar_aluno(id):\n",
        "    aluno = Aluno.query.filter_by(id=id).first()\n",
        "\n",
        "    aluno_json = aluno.to_json()\n",
        "\n",
        "    return gera_response(200, 'aluno', aluno_json, 'ok')\n",
        "```\n",
        "\n",
        "Agora, teremos um endpoint que vai chamar somente um aluno."
      ],
      "metadata": {
        "id": "T6ab1GDBcDPS"
      }
    },
    {
      "cell_type": "markdown",
      "source": [
        "#Cadastrar Aluno\n",
        "\n",
        "Há uma diferença entre o cadastrar aluno, porque, agora precisamos do corpo da requisição do usuário, que vai vir no body, além disso, nosso método agora é o POST\n",
        "\n",
        "```\n",
        "@app.route('/alunos', methods=['POST'])\n",
        "def criar_aluno():\n",
        "    body = request.get_json()\n",
        "```\n",
        "Então, pegamos o corpo da requisição que vem como json e guardamos no body, que fica salvo como se fosse um dicionário.\n",
        "\n",
        "Agora, podemos fazer o cadastro desse aluno\n",
        "\n",
        "```\n",
        "@app.route('/alunos', methods=['POST'])\n",
        "def criar_aluno():\n",
        "    body = request.get_json()\n",
        "    try:\n",
        "        aluno = Aluno(nome=body['nome'], email=body['email'])\n",
        "        db.session.add(aluno)\n",
        "        db.session.commit()\n",
        "        return gera_response(\n",
        "            201, 'aluno',\n",
        "            aluno.to_json(),\n",
        "            'Criado com Sucesso'\n",
        "        )\n",
        "    except Exception:\n",
        "        return gera_response(400, 'aluno', {}, 'Erro ao cadastrar')\n",
        "```"
      ],
      "metadata": {
        "id": "CkTK2X2LgMdo"
      }
    },
    {
      "cell_type": "markdown",
      "source": [
        "Agora, vamos passar um json na nossa requisição do tipo POST e tentar fazer a requisição, com isso, ele precisa retornar o aluno cadastrado."
      ],
      "metadata": {
        "id": "S5o2aPSEgyg5"
      }
    },
    {
      "cell_type": "markdown",
      "source": [
        "#Atualizar Aluno\n",
        "\n",
        "Agora, para atualizar aluno, o método da rota é idêntico ao pegar um único aluno, portanto, podemos até mesmo copiar o código de lá\n",
        "\n",
        "```\n",
        "@app.route('/alunos/<id>', methods=['PUT'])\n",
        "def atualizar_aluno(id):\n",
        "```\n",
        "\n",
        "Agora, precisamos filtrar o usuário pelo id e também pegar o dado que foi modificado no corpo da requisição\n",
        "\n",
        "```\n",
        "@app.route('/alunos/<id>', methods=['PUT'])\n",
        "def atualizar_aluno(id):\n",
        "    aluno = Aluno.query.filter_by(id=id).first()\n",
        "    body = request.get_json()\n",
        "```\n",
        "\n",
        "Agora, precisamos adicionar os dados modificados dentro do banco de dados.\n",
        "\n",
        "```\n",
        "@app.route('/alunos/<id>', methods=['PUT'])\n",
        "def atualizar_aluno(id):\n",
        "    aluno = Aluno.query.filter_by(id=id).first()\n",
        "    body = request.get_json()\n",
        "\n",
        "    try:\n",
        "        if 'nome' in body:\n",
        "            aluno.nome = body['nome']\n",
        "        if 'email' in body:\n",
        "            aluno.email = body['email']\n",
        "\n",
        "        db.session.add(aluno)\n",
        "        db.session.commit()\n",
        "        return gera_response(\n",
        "            200, 'aluno',\n",
        "            aluno.to_json(),\n",
        "            'Atualizado com Sucesso'\n",
        "        )\n",
        "    except Exception:\n",
        "        return gera_response(400, 'aluno', {}, 'Erro ao Atualizar')\n",
        "```"
      ],
      "metadata": {
        "id": "5iZV-mgehIdf"
      }
    },
    {
      "cell_type": "markdown",
      "source": [
        "#Deletar aluno\n",
        "\n",
        "E agora, para deletarmos um aluno, faremos a mesma coisa, precisamos pegar o aluno pelo seu identificador, puxar ele e deletar.\n",
        "\n",
        "```\n",
        "@app.route('/alunos/<id>', methods=['DELETE'])\n",
        "def deletar_aluno(id):\n",
        "    aluno = Aluno.query.filter_by(id=id).first()\n",
        "```\n",
        "Agora que puxamos, basta chamarmos o nosso db e deletar ele.\n",
        "\n",
        "```\n",
        "\n",
        "@app.route('/alunos/<id>', methods=['DELETE'])\n",
        "def deletar_aluno(id):\n",
        "    aluno = Aluno.query.filter_by(id=id).first()\n",
        "\n",
        "    try:\n",
        "        db.session.delete(aluno)\n",
        "        db.session.commit()\n",
        "        return gera_response(\n",
        "            200, 'aluno',\n",
        "            aluno.to_json(),\n",
        "            'Deletado com Sucesso'\n",
        "        )\n",
        "    except Exception as e:\n",
        "        print(e)\n",
        "        return gera_response(400, 'aluno', {}, 'Erro ao deletar')\n",
        "```"
      ],
      "metadata": {
        "id": "SeXX5M-4j1L2"
      }
    }
  ]
}