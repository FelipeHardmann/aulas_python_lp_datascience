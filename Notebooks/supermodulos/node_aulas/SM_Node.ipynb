{
  "nbformat": 4,
  "nbformat_minor": 0,
  "metadata": {
    "colab": {
      "provenance": []
    },
    "kernelspec": {
      "name": "python3",
      "display_name": "Python 3"
    },
    "language_info": {
      "name": "python"
    }
  },
  "cells": [
    {
      "cell_type": "markdown",
      "source": [
        "###Super módulo de Node, aula 7"
      ],
      "metadata": {
        "id": "HneTcksu0UvL"
      }
    },
    {
      "cell_type": "markdown",
      "source": [
        "Na aula passada vimos um pouco sobre o ORM Prisma, vimos o poder de criar tabelas com tipos específicos SQL com o Prisma, vimos alguns tipos de relacionamentos que o Prisma é capaz de fazer e executamos algumas query's básicas.\n",
        "\n",
        "Na aula de hoje, daremos continuidade ao aprendizado, porém, agora, iremos introduzir o conceito do TypeScript."
      ],
      "metadata": {
        "id": "IjcAY4ce0cUT"
      }
    },
    {
      "cell_type": "markdown",
      "source": [
        "###Por que utilizar o TypeScript?"
      ],
      "metadata": {
        "id": "xFEAj14f09Or"
      }
    },
    {
      "cell_type": "markdown",
      "source": [
        "TypeScript é uma linguagem de programação que estende o JavaScript, adicionando tipagem estática e outros recursos que tornam o desenvolvimento mais robusto e produtivo. Quando se trata de criar APIs com Node.js e Express, utilizar TypeScript traz diversos benefícios:\n",
        "\n",
        "**1. Segurança e Confiabilidade**\n",
        "\n",
        "Com a tipagem estática do TypeScript, você define os tipos de dados esperados para variáveis, parâmetros e retornos de funções. Isso ajuda a identificar erros durante o desenvolvimento, antes mesmo da execução.\n",
        "\n",
        "\n",
        "Exemplo:\n",
        "```\n",
        "function getUser(id: number): string {\n",
        "    return `User ID: ${id}`;\n",
        "}\n",
        "\n",
        "// Erro detectado no editor:\n",
        "getUser(\"abc\"); // Argumento inválido!\n",
        "```\n",
        "\n",
        "Isso reduz a chance de bugs causados por tipos inesperados em tempo de execução, o que é especialmente importante em APIs que lidam com validação e manipulação de dados.\n",
        "\n",
        "**2. Melhor Experiência de Desenvolvimento**\n",
        "\n",
        "TypeScript oferece suporte completo para ferramentas modernas, como o IntelliSense, que ajuda com:\n",
        "\n",
        "    Sugestões automáticas.\n",
        "    Validação de código em tempo real.\n",
        "    Refatoração fácil.\n",
        "\n",
        "Essa experiência melhora a produtividade e reduz erros.\n",
        "\n",
        "\n",
        "**3. Código Mais Legível e Manutenível**\n",
        "\n",
        "Com TypeScript, você pode usar interfaces e tipos para documentar contratos claros entre diferentes partes do código. Isso torna o código mais fácil de entender e ajuda novos desenvolvedores a se adaptarem rapidamente ao projeto.\n",
        "\n",
        "Exemplo:\n",
        "\n",
        "\n",
        "```\n",
        "interface User {\n",
        "    id: number;\n",
        "    name: string;\n",
        "}\n",
        "\n",
        "function createUser(user: User): string {\n",
        "    return `User ${user.name} created with ID ${user.id}`;\n",
        "}\n",
        "\n",
        "```\n",
        "**4. Suporte a Recursos Modernos do JavaScript**\n",
        "\n",
        "TypeScript é compatível com os recursos mais recentes do JavaScript e permite que você use sintaxes modernas com segurança. Além disso, ele transpila o código para versões mais antigas do JavaScript, garantindo compatibilidade com diferentes ambientes.\n",
        "\n",
        "\n",
        "**5. Escalabilidade**\n",
        "\n",
        "Em projetos maiores, a ausência de tipagem no JavaScript pode levar a problemas de manutenção e inconsistências no código. TypeScript ajuda a:\n",
        "\n",
        "    Garantir que as mudanças em um módulo não quebrem outros módulos.\n",
        "    Oferecer uma base sólida para projetos que crescem com o tempo.\n",
        "\n",
        "\n",
        "**6. Ecossistema Amigável**\n",
        "\n",
        "A maioria das bibliotecas e frameworks, incluindo Express, já tem tipos disponíveis através do @types, permitindo integração fácil e tipagem pronta para uso.\n",
        "\n",
        "Exemplo:\n",
        "\n",
        "```\n",
        "import express, { Request, Response } from 'express';\n",
        "\n",
        "const app = express();\n",
        "\n",
        "app.get('/users', (req: Request, res: Response) => {\n",
        "    res.send('Hello, TypeScript!');\n",
        "});\n",
        "```\n",
        "\n"
      ],
      "metadata": {
        "id": "MAr_d9rH1AL4"
      }
    },
    {
      "cell_type": "markdown",
      "source": [
        "##Projeto\n",
        "\n",
        "Certo, agora que vimos as vantagens do TypeScript, vamos construir um pequeno projeto com Express, prisma e TypeScript, para compreendermos melhor essas estruturas\n",
        "\n",
        "Para começarmos o nosso projeto, vamos fazer alguns passos:\n",
        "\n",
        "Primeiro: Vamos criar a pasta do nosso projeto\n",
        "\n",
        "Segundo: Vamos instalar as nossas ferramentas para esse projeto\n",
        "\n",
        "\n",
        "\n",
        "```\n",
        "npm install express\n",
        "npm install @prisma/client\n",
        "npm install @types/express@^4.17.17 -D\n",
        "npm install @types/node -D\n",
        "npm install eslint -D\n",
        "npm install @typescript-eslint/eslint-plugin -D\n",
        "npm install @typescript-eslint/parser -D\n",
        "npm install typescript -D\n",
        "npm install ts-node-dev -D\n",
        "npm install prisma -D\n",
        "```\n",
        "\n",
        "Terceiro: Agora, precisamos inicializar o nosso typeScript\n",
        "\n",
        "```\n",
        "npx tsc --init\n",
        "```\n",
        "\n",
        "Quarto: Agora, inicializado o TS, temos aí um arquivo tsconfig.json, nesse arquivo vamos fazer uma pequena alteração, no Strict, vamos colocar ele como false\n",
        "\n",
        "Quinto: Vamos inicializar o eslint\n",
        "\n",
        "```\n",
        "npx eslint --init\n",
        "```"
      ],
      "metadata": {
        "id": "y88-HOFX1kw1"
      }
    },
    {
      "cell_type": "markdown",
      "source": [
        "Agora, fizemos todas as alterações básicas para a construção do nosso projeto\n",
        "\n",
        "Agora, vamos criar uma pasta chamada src, nessa pasta, criaremos o arquivo server.ts, onde colocaremos o seguinte código\n",
        "\n",
        "```\n",
        "import Express from \"express\";\n",
        "\n",
        "const app = Express()\n",
        "app.use(Express.json())\n",
        "\n",
        "const PORT = 8000\n",
        "\n",
        "app.get('/', (request, response) => {\n",
        "    return response.send({ message: 'Hello World' })\n",
        "})\n",
        "\n",
        "app.listen(PORT, () => {\n",
        "    console.log(`O servidor está rodando ${PORT}`);\n",
        "})\n",
        "```\n",
        "\n",
        "Pronto, com esse código agora, teremos a disponibilidade de uma porta e de criarmos as nossas rotas.\n",
        "\n",
        "Com isso, agora, devemos inicializar o prisma:\n",
        "\n",
        "```\n",
        "npx prisma init --datasource-provider sqlite\n",
        "```"
      ],
      "metadata": {
        "id": "CkrFhm5AL662"
      }
    },
    {
      "cell_type": "markdown",
      "source": [
        "Inicializado o nosso prisma, vamos agora construir o nosso modelo de usuário\n",
        "\n",
        "```\n",
        "// This is your Prisma schema file,\n",
        "// learn more about it in the docs: https://pris.ly/d/prisma-schema\n",
        "\n",
        "generator client {\n",
        "  provider = \"prisma-client-js\"\n",
        "}\n",
        "\n",
        "datasource db {\n",
        "  provider = \"sqlite\"\n",
        "  url      = env(\"DATABASE_URL\")\n",
        "}\n",
        "\n",
        "model User {\n",
        "  id Int @id @default(autoincrement())\n",
        "  name String\n",
        "  email String @unique\n",
        "\n",
        "  @@map(\"users\")\n",
        "}\n",
        "\n",
        "```\n",
        "\n",
        "A função map, serve basicamente para modificar o nome da nossa entidade, ou seja, ela não pega assim o valor diretamente da nossa model"
      ],
      "metadata": {
        "id": "PgREjQDrTDfu"
      }
    },
    {
      "cell_type": "markdown",
      "source": [
        "Agora, vamos criar uma tabela de posts, que vai ser relacionada com os Posts que o usuário pode fazer."
      ],
      "metadata": {
        "id": "tt7TLgV_XNXS"
      }
    },
    {
      "cell_type": "markdown",
      "source": [
        "```\n",
        "model Post {\n",
        "  id Int @id @default(autoincrement())\n",
        "  title String?\n",
        "  content String\n",
        "  userId Int\n",
        "  autor User @relation(fields: [userId], references: [id])\n",
        "}\n",
        "```"
      ],
      "metadata": {
        "id": "L7_d1wDWYQYo"
      }
    },
    {
      "cell_type": "markdown",
      "source": [
        "Agora, criado os nosso modelos para essa aplicação, agora, vamos criar as nossas funcionalidades, endpoint's das nossas API's, para isso, vamos criar agora, duas pastas, a primeira chamada *database* e a segunda chamada *controllers*, cada módulo desse terá sua responsabilidade dentro da nossa aplicação, vamos começar pelo database, nessa pasta, vamos criar um arquivo chamado index.ts, nele teremos a intância do nosso ORM Prisma\n",
        "\n",
        "\n",
        "\n",
        "```\n",
        "import { PrismaClient } from \"@prisma/client\";\n",
        "\n",
        "const prisma = new PrismaClient()\n",
        "\n",
        "export { prisma }\n",
        "```"
      ],
      "metadata": {
        "id": "JFYj1KkPYU_C"
      }
    },
    {
      "cell_type": "markdown",
      "source": [
        "Agora, dentro da nossa pasta controllers, vão ficar as nossas lógicas para gerenciar a nossa aplicação, com verificações se o usuário já existe, com inserção de dados e tudo mais.\n",
        "\n",
        "```\n",
        "import { Request, Response } from 'express';\n",
        "import { prisma } from '../database';\n",
        "\n",
        "const UserController = {\n",
        "    async createUser(request: Request, response: Response): Promise<Response> {\n",
        "        try {\n",
        "            const { name, email } = request.body;\n",
        "            const userExists = await prisma.user.findUnique({ where: { email } });\n",
        "\n",
        "            if (userExists) {\n",
        "                return response.json({\n",
        "                    error: true,\n",
        "                    message: 'Erro: Usuário já existe'\n",
        "                });\n",
        "            }\n",
        "\n",
        "            const user = await prisma.user.create({\n",
        "                data: {\n",
        "                    name,\n",
        "                    email\n",
        "                }\n",
        "            });\n",
        "\n",
        "            return response.json({\n",
        "                error: false,\n",
        "                message: 'Sucesso: Usuário cadastrado com sucesso',\n",
        "                user\n",
        "            });\n",
        "        } catch (error) {\n",
        "            return response.json({ message: error.message });\n",
        "        }\n",
        "    }\n",
        "};\n",
        "\n",
        "export default UserController;\n",
        "\n",
        "```"
      ],
      "metadata": {
        "id": "G38_Q3txe20Z"
      }
    },
    {
      "cell_type": "markdown",
      "source": [
        "Criado o controller de user, agora podemos chamar no nosso server a nossa rota para cadastrar usuário\n",
        "\n",
        "app.post('/createUser', UserController.createUser)"
      ],
      "metadata": {
        "id": "f5fpEGMhjedw"
      }
    },
    {
      "cell_type": "markdown",
      "source": [
        "Agora, podemos utilizar o insomnia, o postman ou thunderclient para cadastrar o nosso usuário no nosso banco de dados"
      ],
      "metadata": {
        "id": "nAMApQiijlQg"
      }
    },
    {
      "cell_type": "markdown",
      "source": [
        "Continuando o assunto, vamos agora cadastrar os posts do usuário, esses posts serão feitos da mesma forma que o controller de usuário\n",
        "\n",
        "AGora é com você, tente fazer o controller de Posts com o GET, POTS, PUT e DELETE.",
        "Caso queira dar uma olhada no código completo dessa aula, visite o esse repositório https://github.com/FelipeHardmann/api_express_ts"
      ],
      "metadata": {
        "id": "ke6rlKbJjwFB"
      }
    }
  ]
}
