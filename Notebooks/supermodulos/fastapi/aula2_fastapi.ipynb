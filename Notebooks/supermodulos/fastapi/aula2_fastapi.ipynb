{
  "nbformat": 4,
  "nbformat_minor": 0,
  "metadata": {
    "colab": {
      "provenance": []
    },
    "kernelspec": {
      "name": "python3",
      "display_name": "Python 3"
    },
    "language_info": {
      "name": "python"
    }
  },
  "cells": [
    {
      "cell_type": "markdown",
      "source": [
        "#Bem-vindo a aula 1 do Super módulo de API em Python\n",
        "\n",
        "Na aula de hoje vamos continuar com o desenvolvimento dos estudos sobre FastAPI.\n",
        "\n",
        "Na aula de hoje vamos ver um pouco sobre um carinha que acompanha o pydantic.\n"
      ],
      "metadata": {
        "id": "65QjG7eEc2bt"
      }
    },
    {
      "cell_type": "markdown",
      "source": [
        "### O que é o pydantic?\n",
        "\n",
        "O pydantic é uma biblioteca para validação de dados automatica, converter tipos de forma segura e criar modelos de dados com tipagem. Tudo isso é feito usando a sintaxe do type hints do Python."
      ],
      "metadata": {
        "id": "dGB99Hrhc6Vp"
      }
    },
    {
      "cell_type": "markdown",
      "source": [
        "# 🧠 O que são Type Hints em Python?\n",
        "\n",
        "# Type Hints (ou anotações de tipo) são usadas para indicar os tipos de variáveis,\n",
        "# parâmetros de funções e valores de retorno, sem mudar o comportamento do código.\n",
        "\n",
        "# Exemplo básico de função com type hints\n",
        "\n",
        "```\n",
        "def soma(a: int, b: int) -> int:\n",
        "    return a + b\n",
        "\n",
        "print(soma(3, 5))  # ✅ 8\n",
        "```"
      ],
      "metadata": {
        "id": "H3wz6m-Gfis-"
      }
    },
    {
      "cell_type": "markdown",
      "source": [
        "# 🧰 Também podemos usar type hints em variáveis\n",
        "\n",
        "```\n",
        "nome: str = \"Maria\"\n",
        "idade: int = 30\n",
        "ativo: bool = True\n",
        "precos: list[float] = [19.99, 29.90]\n",
        "\n",
        "print(nome, idade, ativo, precos)\n",
        "```"
      ],
      "metadata": {
        "id": "4-GYFuVufq2k"
      }
    },
    {
      "cell_type": "markdown",
      "source": [
        "###Voltando para o pydantic....\n",
        "\n",
        "Então, já entendemos que o pydantic é uma lib para validação automática de dados.\n",
        "\n",
        "Agora, vamos ver um exemplo do uso do pydantic.\n",
        "\n"
      ],
      "metadata": {
        "id": "p7tOfKTpgeh2"
      }
    },
    {
      "cell_type": "code",
      "source": [
        "from pydantic import BaseModel\n",
        "\n",
        "class Usuario(BaseModel):\n",
        "    nome: str\n",
        "    idade: int\n",
        "\n",
        "# Mesmo que idade venha como string, Pydantic converte:\n",
        "dados = {\"nome\": \"Carlos\", \"idade\": \"40\"}\n",
        "usuario = Usuario(**dados)\n",
        "\n",
        "print(usuario)\n",
        "print(usuario.idade)  # ✅ convertido para int\n"
      ],
      "metadata": {
        "colab": {
          "base_uri": "https://localhost:8080/"
        },
        "id": "I9Gnov-EgvrR",
        "outputId": "dc1ec83d-e8c5-4f26-e423-9f74c9c6ba6b"
      },
      "execution_count": 2,
      "outputs": [
        {
          "output_type": "stream",
          "name": "stdout",
          "text": [
            "nome='Carlos' idade=40\n",
            "40\n"
          ]
        }
      ]
    },
    {
      "cell_type": "markdown",
      "source": [
        "Certo, o que é esse BaseModel?\n",
        "\n",
        "Sempre que vamos utilizar o pydantic, precisamos herdar na class o BaseModel, ele é o coração do pydantic, ele transforma uma classe em um modelo de dados seguro, tipado e validado.\n",
        "\n",
        "Vamos aprender mais algumas verificações que temos no Python, relacionado agora a outra Lib que temos para utilizar tipagem, chamada de typing."
      ],
      "metadata": {
        "id": "M6y9TEBfhXm2"
      }
    },
    {
      "cell_type": "code",
      "source": [
        "\n",
        "from typing import Optional\n",
        "\n",
        "class Produto(BaseModel):\n",
        "    nome: str\n",
        "    preco: float = 0.0\n",
        "    em_estoque: Optional[bool] = True\n",
        "\n",
        "p = Produto(nome=\"Caderno\")\n",
        "print(p)\n"
      ],
      "metadata": {
        "colab": {
          "base_uri": "https://localhost:8080/"
        },
        "id": "NgGpc2PoqKmu",
        "outputId": "bded3960-68d3-47a4-e82b-fb30b4fa259c"
      },
      "execution_count": 3,
      "outputs": [
        {
          "output_type": "stream",
          "name": "stdout",
          "text": [
            "nome='Caderno' preco=0.0 em_estoque=True\n"
          ]
        }
      ]
    },
    {
      "cell_type": "markdown",
      "source": [
        "Dentro do typing, temos alguns tipos que podemos utilizar, como por exemplo criar um array com dados únicos, criar tipagem opicional.\n",
        "\n",
        "###Mas, o maior foco do FastAPI, é utilizar a validação de dados com o pydantic.\n",
        "\n",
        "Por isso, vamos voltar a entender algumas validações super interessantes que o pydantic possui.\n",
        "\n",
        "Dentro do pydantic possuímos algumas validações interessantes, como a de email, que é muito utilizada no nosso dia a dia para construção de API's.\n",
        "\n",
        "Vamos a um exemplo:"
      ],
      "metadata": {
        "id": "My3BoxHWqMmV"
      }
    },
    {
      "cell_type": "code",
      "source": [
        "!pip install email_validator"
      ],
      "metadata": {
        "colab": {
          "base_uri": "https://localhost:8080/"
        },
        "id": "t_rLW_qxsbWF",
        "outputId": "0e5b6623-c4de-47cf-cef7-8f3c53da5cee"
      },
      "execution_count": 7,
      "outputs": [
        {
          "output_type": "stream",
          "name": "stdout",
          "text": [
            "Requirement already satisfied: email_validator in /usr/local/lib/python3.11/dist-packages (2.2.0)\n",
            "Requirement already satisfied: dnspython>=2.0.0 in /usr/local/lib/python3.11/dist-packages (from email_validator) (2.7.0)\n",
            "Requirement already satisfied: idna>=2.0.0 in /usr/local/lib/python3.11/dist-packages (from email_validator) (3.10)\n"
          ]
        }
      ]
    },
    {
      "cell_type": "code",
      "source": [
        "from pydantic import EmailStr, conint, constr\n",
        "\n",
        "class Cliente(BaseModel):\n",
        "    nome: constr(min_length=3)\n",
        "    idade: conint(ge=18)\n",
        "    email: EmailStr\n",
        "\n",
        "cliente = Cliente(nome=\"Joana\", idade=25, email=\"joana@email.com\")\n",
        "print(cliente)\n"
      ],
      "metadata": {
        "colab": {
          "base_uri": "https://localhost:8080/"
        },
        "id": "G4dEGM3CsID5",
        "outputId": "1838a567-3377-47be-952f-07918644efcd"
      },
      "execution_count": 8,
      "outputs": [
        {
          "output_type": "stream",
          "name": "stdout",
          "text": [
            "nome='Joana' idade=25 email='joana@email.com'\n"
          ]
        }
      ]
    },
    {
      "cell_type": "markdown",
      "source": [
        "Então, esse EmailStr, cria um campo que valida se o dado passado é um email ou não.\n",
        "\n",
        "Já os outros campos o coint, consegue criar algumas validações como, especificar que a idade precisar ser maior ou igual a 18\n",
        "\n",
        "Já o constr, valida se esse dado possui no mínimo 3 caracteres."
      ],
      "metadata": {
        "id": "5Us4vrkpsKgq"
      }
    },
    {
      "cell_type": "markdown",
      "source": [
        "E o interessante do pydantic é que ele aceita tipos de dados que vem de um JSON, de forma simples e eficaz."
      ],
      "metadata": {
        "id": "QX2OYynPs9KL"
      }
    },
    {
      "cell_type": "code",
      "source": [
        "print(cliente.json())\n",
        "print(cliente.dict())\n",
        "\n",
        "import json\n",
        "data = '{\"nome\": \"Bruno\", \"idade\": 34, \"email\": \"bruno@email.com\"}'\n",
        "novo_cliente = Cliente.parse_raw(data)\n",
        "\n",
        "print(novo_cliente)\n"
      ],
      "metadata": {
        "colab": {
          "base_uri": "https://localhost:8080/"
        },
        "id": "m-GdKlDftY0I",
        "outputId": "8ca9032a-db58-4864-9aef-221fc129d197"
      },
      "execution_count": 9,
      "outputs": [
        {
          "output_type": "stream",
          "name": "stdout",
          "text": [
            "{\"nome\":\"Joana\",\"idade\":25,\"email\":\"joana@email.com\"}\n",
            "{'nome': 'Joana', 'idade': 25, 'email': 'joana@email.com'}\n",
            "nome='Bruno' idade=34 email='bruno@email.com'\n"
          ]
        },
        {
          "output_type": "stream",
          "name": "stderr",
          "text": [
            "<ipython-input-9-fcce443b210e>:1: PydanticDeprecatedSince20: The `json` method is deprecated; use `model_dump_json` instead. Deprecated in Pydantic V2.0 to be removed in V3.0. See Pydantic V2 Migration Guide at https://errors.pydantic.dev/2.11/migration/\n",
            "  print(cliente.json())\n",
            "<ipython-input-9-fcce443b210e>:2: PydanticDeprecatedSince20: The `dict` method is deprecated; use `model_dump` instead. Deprecated in Pydantic V2.0 to be removed in V3.0. See Pydantic V2 Migration Guide at https://errors.pydantic.dev/2.11/migration/\n",
            "  print(cliente.dict())\n",
            "<ipython-input-9-fcce443b210e>:6: PydanticDeprecatedSince20: The `parse_raw` method is deprecated; if your data is JSON use `model_validate_json`, otherwise load the data then use `model_validate` instead. Deprecated in Pydantic V2.0 to be removed in V3.0. See Pydantic V2 Migration Guide at https://errors.pydantic.dev/2.11/migration/\n",
            "  novo_cliente = Cliente.parse_raw(data)\n"
          ]
        }
      ]
    },
    {
      "cell_type": "markdown",
      "source": [
        "Outra coisa muito interessante é que dentro do pydantic podemos utilizar modelos aninhados, vamos a um exemplo:"
      ],
      "metadata": {
        "id": "3QriHVpxtd_g"
      }
    },
    {
      "cell_type": "code",
      "source": [
        "class Endereco(BaseModel):\n",
        "    rua: str\n",
        "    cidade: str\n",
        "\n",
        "class Pessoa(BaseModel):\n",
        "    nome: str\n",
        "    endereco: Endereco\n",
        "\n",
        "p = Pessoa(nome=\"Lia\", endereco={\"rua\": \"Rua A\", \"cidade\": \"SP\"})\n",
        "print(p)\n",
        "print(p.endereco.cidade)\n"
      ],
      "metadata": {
        "colab": {
          "base_uri": "https://localhost:8080/"
        },
        "id": "dMhGhED5txvG",
        "outputId": "bd9dbc3d-24a8-45bf-c6ce-12ad9272dc8c"
      },
      "execution_count": 10,
      "outputs": [
        {
          "output_type": "stream",
          "name": "stdout",
          "text": [
            "nome='Lia' endereco=Endereco(rua='Rua A', cidade='SP')\n",
            "SP\n"
          ]
        }
      ]
    },
    {
      "cell_type": "markdown",
      "source": [
        "Esse modelo acima, cria uma estrutura aninhada, onde podemos passar uma série de dados."
      ],
      "metadata": {
        "id": "fTf-fZ-7t0D0"
      }
    },
    {
      "cell_type": "markdown",
      "source": [
        "Agora, vamos ver como podemos utilizar o FastAPI com o Pydantic"
      ],
      "metadata": {
        "id": "BkBVQCDrubUL"
      }
    },
    {
      "cell_type": "code",
      "source": [
        "from fastapi import FastAPI\n",
        "from pydantic import BaseModel, constr, conint\n",
        "from typing import Optional"
      ],
      "metadata": {
        "id": "XNw6Fo2swmPl"
      },
      "execution_count": 12,
      "outputs": []
    },
    {
      "cell_type": "code",
      "source": [
        "app = FastAPI()"
      ],
      "metadata": {
        "id": "B0BHXYhSwmwD"
      },
      "execution_count": null,
      "outputs": []
    },
    {
      "cell_type": "code",
      "source": [
        "class Usuario(BaseModel):\n",
        "    nome: str\n",
        "    idade: int\n",
        "    email: str\n",
        "\n",
        "@app.post(\"/usuarios\")\n",
        "def criar_usuario(usuario: Usuario):\n",
        "    return {\n",
        "        \"mensagem\": \"Usuário criado com sucesso!\",\n",
        "        \"dados\": usuario\n",
        "    }"
      ],
      "metadata": {
        "id": "zYmQ_Socw-WY"
      },
      "execution_count": null,
      "outputs": []
    },
    {
      "cell_type": "markdown",
      "source": [
        "Dentro disso, podemos passar no corpo da requisição os dados e testar a nossa API."
      ],
      "metadata": {
        "id": "6__ncnqJxBHF"
      }
    },
    {
      "cell_type": "markdown",
      "source": [
        "Além disso, para efeito de teste, podemos utilizar as tipagens parecidas com as que fizemos acima."
      ],
      "metadata": {
        "id": "XywVlc5LyECX"
      }
    },
    {
      "cell_type": "markdown",
      "source": [
        "Pensando nessa parte, vamos começar a trabalhar com modularização da nossa aplicação"
      ],
      "metadata": {
        "id": "ciYx3fz4FI-x"
      }
    },
    {
      "cell_type": "markdown",
      "source": [
        "#Modularizar o projeto"
      ],
      "metadata": {
        "id": "JixcaRrsFOp9"
      }
    },
    {
      "cell_type": "markdown",
      "source": [
        "Modularizar um projeto com FastAPI é essencial para manter seu código limpo, organizado, escalável e de fácil manutenção — especialmente quando o projeto cresce."
      ],
      "metadata": {
        "id": "SYchTEqfFROP"
      }
    },
    {
      "cell_type": "markdown",
      "source": [
        "🧠 Por que modularizar?\n",
        "\n",
        "\n",
        "1.  Organização: separa responsabilidades (rotas, modelos, lógica de negócio).\n",
        "\n",
        "2.  Reutilização: facilita reutilizar código em diferentes partes do app.\n",
        "\n",
        "3.  Manutenção: facilita correções e atualizações isoladas.\n",
        "\n",
        "4.  Testabilidade: módulos separados são mais fáceis de testar.\n",
        "\n",
        "5.  Escalabilidade: o projeto cresce sem virar uma \"bagunça monolítica\".\n",
        "\n"
      ],
      "metadata": {
        "id": "RA5k4eBbFaaM"
      }
    },
    {
      "cell_type": "markdown",
      "source": [
        "Aqui vai um exemplo de uma modularização básica"
      ],
      "metadata": {
        "id": "VKvGaZnlFwjL"
      }
    },
    {
      "cell_type": "markdown",
      "source": [
        "├── app/\n",
        "\n",
        "│   ├── main.py               # ponto de entrada da aplicação\n",
        "\n",
        "│   ├── routes/               # rotas organizadas por recurso\n",
        "\n",
        "│   │   ├── __init__.py\n",
        "\n",
        "│   │   ├── users.py\n",
        "\n",
        "│   │   └── produtos.py\n",
        "\n",
        "│   ├── models/               # modelos Pydantic\n",
        "\n",
        "│   │   ├── __init__.py\n",
        "\n",
        "│   │   ├── user_model.py\n",
        "\n",
        "│   │   └── produto_model.py\n",
        "\n",
        "│   ├── services/             # lógica de negócio\n",
        "\n",
        "│   │   └── user_service.py\n",
        "\n",
        "│   ├── database/             # conexão e funções com DB\n",
        "\n",
        "│   │   └── mongo.py / db.py\n",
        "\n",
        "│   └── utils/                # funções auxiliares\n",
        "\n",
        "│       └── helpers.py"
      ],
      "metadata": {
        "id": "kYY5gZsrGWY-"
      }
    }
  ]
}