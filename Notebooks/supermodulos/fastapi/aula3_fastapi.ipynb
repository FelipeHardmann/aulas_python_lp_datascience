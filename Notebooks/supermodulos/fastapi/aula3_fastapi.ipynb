{
  "nbformat": 4,
  "nbformat_minor": 0,
  "metadata": {
    "colab": {
      "provenance": []
    },
    "kernelspec": {
      "name": "python3",
      "display_name": "Python 3"
    },
    "language_info": {
      "name": "python"
    }
  },
  "cells": [
    {
      "cell_type": "markdown",
      "source": [
        "#Bem-vindo a aula 3 do Super módulo de API em Python\n",
        "\n",
        "Na aula de hoje, veremos como modularizar o nosso projeto e como fazer conexão da nossa aplicação com um banco de dados."
      ],
      "metadata": {
        "id": "gljx0wP7zzwY"
      }
    },
    {
      "cell_type": "markdown",
      "source": [
        "##Modularização\n",
        "\n",
        "Primeiro de tudo, vamos fazer a modularização do nosso projeto.\n",
        "\n",
        "A modularização é uma das práticas mais importantes no desenvolvimento de software, especialmente em APIs backend. Ela consiste em dividir o sistema em partes menores, coesas e reutilizáveis, cada uma responsável por uma funcionalidade específica.\n",
        "\n",
        "Neste \"notebook\", vamos explorar por que modularizar e como isso impacta a qualidade, manutenção e escalabilidade do projeto.\n",
        "🔍 1. O Que é Modularização?\n",
        "\n",
        "Modularizar significa:\n",
        "✅ Separar o código em componentes lógicos (ex: autenticação, banco de dados, modelos).\n",
        "✅ Definir interfaces claras entre os módulos.\n",
        "✅ Evitar acoplamento excessivo (uma mudança em um módulo não quebra outros).\n",
        "\n",
        "Exemplo de Estrutura Modular:\n",
        "Copy\n",
        "\n",
        "/projeto  \n",
        "├── app.py                 # Ponto de entrada  \n",
        "├── config/                # Configurações  \n",
        "├── modules/  \n",
        "│   ├── auth/              # Autenticação (JWT, OAuth)  \n",
        "│   ├── users/             # Gestão de usuários  \n",
        "│   └── products/          # Catálogo de produtos  \n",
        "├── utils/                 # Funções auxiliares  \n",
        "└── tests/                 # Testes automatizados  \n",
        "\n",
        "🎯 2. Por Que Modularizar uma API?\n",
        "📚 Legibilidade e Organização\n",
        "\n",
        "    Código mais limpo: Cada arquivo/pasta tem um propósito claro.\n",
        "\n",
        "    Facilita a navegação: Encontrar e editar funcionalidades é mais rápido.\n",
        "\n",
        "    Documentação implícita: A estrutura do projeto revela sua lógica.\n",
        "\n",
        "⚙️ Manutenção Simplificada\n",
        "\n",
        "    Bugs são localizados mais rápido (ex: um erro na autenticação está em auth/).\n",
        "\n",
        "    Atualizações são menos arriscadas (mudar um módulo não afeta outros).\n",
        "\n",
        "🔄 Reutilização de Código\n",
        "\n",
        "    Evita duplicação: Funções comuns (ex: conexão com banco) ficam em utils/database.py.\n",
        "\n",
        "    Módulos podem ser compartilhados entre projetos (ex: um pacote auth-core para várias APIs).\n",
        "\n",
        "🧪 Testabilidade\n",
        "\n",
        "    Testes unitários focados: Cada módulo pode ser testado isoladamente.\n",
        "\n",
        "    Mocks fáceis: Substitua dependências (ex: banco de dados) em testes.\n",
        "\n",
        "🚀 Escalabilidade\n",
        "\n",
        "    Novas features são adicionadas sem conflitos (ex: criar modules/payments/).\n",
        "\n",
        "    Preparação para microserviços: Módulos podem virar serviços independentes no futuro.\n",
        "\n",
        "👥 Trabalho em Equipe\n",
        "\n",
        "    Desenvolvedores trabalham em paralelo (ex: um no auth/, outro no products/).\n",
        "\n",
        "    Onboarding mais rápido: Novos membros entendem a estrutura facilmente.\n",
        "\n",
        "⚠️ 3. Problemas sem Modularização\n",
        "\n",
        "Um projeto não modularizado tende a:\n",
        "❌ Virar um \"God Object\" (arquivo único com milhares de linhas).\n",
        "❌ Dificultar testes e debugging.\n",
        "❌ Causar conflitos frequentes no Git.\n",
        "❌ Desencorajar boas práticas (ex: injeção de dependência).\n",
        "\n",
        "Exemplo de Código Não Modularizado:\n",
        "python\n",
        "Copy\n",
        "\n",
        "# app.py (TUDO misturado)  \n",
        "def login():  \n",
        "    # Lógica de autenticação + banco + JWT...  \n",
        "def get_users():  \n",
        "    # Consulta SQL + validação + formatação...  \n",
        "def create_product():  \n",
        "    # Regras de negócio + upload de arquivos...  \n",
        "\n",
        "🛠️ 4. Como Começar a Modularizar?\n",
        "\n",
        "    Identifique responsabilidades (ex: autenticação, banco de dados, modelos).\n",
        "\n",
        "    Separe em pastas/arquivos (ex: modules/auth/routes.py, modules/auth/service.py).\n",
        "\n",
        "    Use injeção de dependência (evite acoplamento direto entre módulos).\n",
        "\n",
        "    Documente interfaces (ex: \"auth.service deve receber um UserModel\").\n",
        "\n",
        "Ferramentas Recomendadas:\n",
        "\n",
        "    SQLAlchemy (banco de dados organizado em modelos).\n",
        "\n",
        "    Pydantic (validação de dados entre módulos).\n",
        "\n",
        "📈 5. Benefícios a Longo Prazo\n",
        "Antes\tDepois\n",
        "Código difícil de ler\tCódigo autoexplicativo\n",
        "Manutenção custosa\tAtualizações rápidas\n",
        "Time sobrecarregado\tDevs produtivos\n",
        "Bugs recorrentes\tErros localizáveis"
      ],
      "metadata": {
        "id": "d-TZMYb7y9ET"
      }
    },
    {
      "cell_type": "markdown",
      "source": [
        "Desse modo, vamos criar nossa aplicação modularizada no FastAPI, vamos criar algo semelhante a isso\n",
        "\n",
        "app/\n",
        "├── main.py\n",
        "\n",
        "├── database/\n",
        "\n",
        "│   └── session.py\n",
        "\n",
        "├── models/\n",
        "\n",
        "│   └── user.py\n",
        "\n",
        "├── schemas/\n",
        "\n",
        "│   └── user.py\n",
        "\n",
        "├── crud/\n",
        "\n",
        "│   └── user.py\n",
        "\n",
        "└── routes/\n",
        "\n",
        "|    └── user.py\n"
      ],
      "metadata": {
        "id": "GBAnQyH72LIU"
      }
    },
    {
      "cell_type": "markdown",
      "source": [
        "Esse é um exemplo de uma aplicação de API muito eficiente, se tivessemos camadas de testes, poderíamos criar mais um módulo para testes e assim por diante."
      ],
      "metadata": {
        "id": "3PQN5b5oCZgT"
      }
    },
    {
      "cell_type": "markdown",
      "source": [
        "##SQLAlchemy\n",
        "\n",
        "Quando estamos trabalhando com banco de dados utilizamos uma linguagem chamada de SQL, essa linguagem é a linguagem oficial para banco de dados, por isso, para não termos a necessidade de nos aprofundarmos mais ainda na linguagem SQL e acabarmos perdendo a parte prática da aula, vamos falar sobre o SQLAlchemy.\n",
        "\n",
        "SQLAlchemy é um ORM (Object-Relational Mapper) e uma biblioteca SQL toolkit para Python, que facilita a interação com bancos de dados relacionais de forma pythônica e eficiente.\n",
        "📌 Principais Características\n",
        "1. ORM (Mapeamento Objeto-Relacional)\n",
        "\n",
        "Permite manipular tabelas do banco de dados como classes Python (modelos).\n",
        "\n",
        "2. SQL Expression Language\n",
        "\n",
        "Fornece uma maneira programática de escrever consultas SQL.\n",
        "\n",
        "3. Suporte a Múltiplos Bancos de Dados\n",
        "\n",
        "PostgreSQL, MySQL, SQLite, Oracle, Microsoft SQL Server, etc.\n",
        "\n",
        "Trocar de banco é simples (muda apenas a connection string).\n",
        "\n",
        "4. Sessões e Transações\n",
        "\n",
        "Gerencia conexões e transações automaticamente.\n",
        "\n",
        "5. Relacionamentos (Associações)\n",
        "\n",
        "Define FKs, one-to-many, many-to-many, etc."
      ],
      "metadata": {
        "id": "a28maJhLDFGt"
      }
    },
    {
      "cell_type": "markdown",
      "source": [
        "Na aula de hoje, vamos fazer um pequeno sistema com conexão ao banco de dados."
      ],
      "metadata": {
        "id": "L6yqnjdLRh0H"
      }
    },
    {
      "cell_type": "code",
      "source": [
        "# Arquivo database/session.py\n",
        "from sqlalchemy import create_engine\n",
        "from sqlalchemy.orm import sessionmaker, declarative_base\n",
        "\n",
        "DATABASE_URL = \"sqlite:///./db.sqlite3\"\n",
        "\n",
        "engine = create_engine(DATABASE_URL, connect_args={\"check_same_thread\": False})\n",
        "SessionLocal = sessionmaker(bind=engine, autocommit=False, autoflush=False)\n",
        "Base = declarative_base()"
      ],
      "metadata": {
        "id": "WSX__XakRsRm"
      },
      "execution_count": null,
      "outputs": []
    },
    {
      "cell_type": "markdown",
      "source": [
        "Aqui, estamos criando uma sessão do nosso banco de dados, que estamos conectados ao banco de dados SQLite."
      ],
      "metadata": {
        "id": "boEUh7kWR0Ce"
      }
    },
    {
      "cell_type": "markdown",
      "source": [
        "Agora, criando a nossa conexão de banco de dados, vamos criar um modelo para a nossa aplicação, um modelo é uma tabela."
      ],
      "metadata": {
        "id": "xrBwtoQZR90g"
      }
    },
    {
      "cell_type": "code",
      "source": [
        "# models/user.py\n",
        "from sqlalchemy import Column, Integer, String\n",
        "from database.session import Base\n",
        "\n",
        "class User(Base):\n",
        "    __tablename__ = \"users\"\n",
        "\n",
        "    id = Column(Integer, primary_key=True, index=True, autoincrement=True)\n",
        "    name = Column(String, nullable=False)\n",
        "    email = Column(String, unique=True, index=True, nullable=False)"
      ],
      "metadata": {
        "id": "xn-XnD9PSTRf"
      },
      "execution_count": null,
      "outputs": []
    },
    {
      "cell_type": "markdown",
      "source": [
        "Após isso, é interessante que a gente crie uma camada para validação de dados, para que os dados sempre estejam tratados, antes de entrar na camada do banco de dados.\n",
        "\n",
        "Essa camada, chamamos de schemas."
      ],
      "metadata": {
        "id": "N0cV9li_SV3E"
      }
    },
    {
      "cell_type": "code",
      "source": [
        "from pydantic import BaseModel, EmailStr\n",
        "\n",
        "class UserCreate(BaseModel):\n",
        "    name: str\n",
        "    email: EmailStr\n",
        "\n",
        "    class Config:\n",
        "        orm_mode = True"
      ],
      "metadata": {
        "id": "6ePqz3StShB6"
      },
      "execution_count": null,
      "outputs": []
    },
    {
      "cell_type": "markdown",
      "source": [
        "Após essa criação, desses arquivo com essa características, vamos criar uma camada para serviços, esses serviços normalmente englobam a lógica para por exeplo, criar um usuário, buscar usuário, atualizar usuário e etc."
      ],
      "metadata": {
        "id": "2r3LGTSeSwtM"
      }
    },
    {
      "cell_type": "code",
      "source": [
        "from fastapi import APIRouter, Depends, HTTPException\n",
        "from sqlalchemy.orm import Session\n",
        "from database.session import SessionLocal\n",
        "from crud import user as crud_user\n",
        "from schemas.user import UserCreate, UserOut\n",
        "from typing import List\n",
        "\n",
        "router = APIRouter()\n",
        "\n",
        "def get_db():\n",
        "    db = SessionLocal()\n",
        "    try:\n",
        "        yield db\n",
        "    finally:\n",
        "        db.close()\n",
        "\n",
        "@router.post(\"/users\", response_model=UserOut)\n",
        "def create_user(user: UserCreate, db: Session = Depends(get_db)):\n",
        "    return crud_user.create_user(db, user)\n",
        "\n",
        "@router.get(\"/users\", response_model=List[UserOut])\n",
        "def list_users(db: Session = Depends(get_db)):\n",
        "    return crud_user.get_users(db)\n",
        "\n",
        "@router.get(\"/users/{user_id}\", response_model=UserOut)\n",
        "def get_user(user_id: int, db: Session = Depends(get_db)):\n",
        "    user = crud_user.get_user(db, user_id)\n",
        "    if not user:\n",
        "        raise HTTPException(status_code=404, detail=\"Usuário não encontrado\")\n",
        "    return user\n",
        "\n",
        "@router.delete(\"/users/{user_id}\")\n",
        "def delete_user(user_id: int, db: Session = Depends(get_db)):\n",
        "    success = crud_user.delete_user(db, user_id)\n",
        "    if not success:\n",
        "        raise HTTPException(status_code=404, detail=\"Usuário não encontrado\")\n",
        "    return {\"ok\": True}"
      ],
      "metadata": {
        "id": "3TgcTeGaT6tb"
      },
      "execution_count": null,
      "outputs": []
    },
    {
      "cell_type": "markdown",
      "source": [
        "Depois disso, não é interessante criarmos nossas rotas diretos na main.py, porque na main.py vamos ter apenas a responsabilidade única de executar o arquivo, então, os princípios de responsabilidades são essenciais para o desenvolvimento das aplicações."
      ],
      "metadata": {
        "id": "HX-T-FLtT75s"
      }
    },
    {
      "cell_type": "code",
      "source": [
        "# routes/user.py\n",
        "from fastapi import APIRouter, Depends\n",
        "from sqlalchemy.orm import Session\n",
        "from database.db import SessionLocal\n",
        "from crud.user import create_user, get_users\n",
        "from schemas.user import UserCreate, UserOut\n",
        "from typing import List\n",
        "\n",
        "router = APIRouter()\n",
        "\n",
        "def get_db():\n",
        "    db = SessionLocal()\n",
        "    try:\n",
        "        yield db\n",
        "    finally:\n",
        "        db.close()\n",
        "\n",
        "@router.post(\"/users\", response_model=UserOut)\n",
        "def create(user: UserCreate, db: Session = Depends(get_db)):\n",
        "    return create_user(db, user)\n",
        "\n",
        "@router.get(\"/users\", response_model=List[UserOut])\n",
        "def list_users(db: Session = Depends(get_db)):\n",
        "    return get_users(db)\n"
      ],
      "metadata": {
        "id": "MNtYOTxiUdxw"
      },
      "execution_count": null,
      "outputs": []
    },
    {
      "cell_type": "markdown",
      "source": [
        "E agora, só falta o arquivo main.py, para que nossas rotas e nossa aplicação possa funcionar"
      ],
      "metadata": {
        "id": "-OO1tMh6UiFS"
      }
    },
    {
      "cell_type": "code",
      "source": [
        "from fastapi import FastAPI\n",
        "from routes import user\n",
        "\n",
        "app = FastAPI()\n",
        "app.include_router(user.router)"
      ],
      "metadata": {
        "id": "ex0kyK3PUwDG"
      },
      "execution_count": null,
      "outputs": []
    }
  ]
}