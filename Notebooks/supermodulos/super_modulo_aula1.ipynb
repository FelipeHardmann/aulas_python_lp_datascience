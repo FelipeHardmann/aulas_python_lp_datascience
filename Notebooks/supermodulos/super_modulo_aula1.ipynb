{
  "nbformat": 4,
  "nbformat_minor": 0,
  "metadata": {
    "colab": {
      "provenance": []
    },
    "kernelspec": {
      "name": "python3",
      "display_name": "Python 3"
    },
    "language_info": {
      "name": "python"
    }
  },
  "cells": [
    {
      "cell_type": "markdown",
      "source": [
        "#Reforço SQL Aula 1\n",
        "\n",
        "####O que será abordado na aula de hoje:\n",
        "\n",
        "- Definição de banco de dados\n",
        "- Tipos de Bancos de dados\n",
        "- O que é um SGBD\n",
        "- Comandos de SQL"
      ],
      "metadata": {
        "id": "yzvr9C2ubbnq"
      }
    },
    {
      "cell_type": "markdown",
      "source": [
        "### O que é um banco de dados\n",
        "\n",
        "O banco de dados é uma coleção de dados estruturados ou não estruturados, organizados de maneira que facilita a recuperação, gestão e atualização dessas informações. Esses dados podem ser qualquer tipo informação, desde listas de clientes, transações financeiras, registros de inventário, até links e conteúdos de websites.\n",
        "\n",
        "### Principais componentes de um Banco de dados:\n",
        "- Tabelas\n",
        "- Registros\n",
        "- Campos\n",
        "- Chaves primárias\n",
        "- Chaves estrangeiras"
      ],
      "metadata": {
        "id": "oMiT8vPFeaDF"
      }
    },
    {
      "cell_type": "markdown",
      "source": [
        "###Tipos de Bancos de Dados\n",
        "\n",
        "Atualmente, possuímos dois tipos de bancos de dados, que são eles:\n",
        "\n",
        "**Bancos de Dados Relacionais**: Armazenam dados em tabelas e usam SQL (Structured Query Language) para gerenciar e consultar dados. Exemplos incluem MySQL, PostgreSQL, SQLite, e Oracle.\n",
        "\n",
        "**Bancos de Dados não-relacionais**: Não usam tabelas para organizar os dados. Em vez disso, usam formatos como documentos, grafos, colunas ou pares chave-valor. Exemplos incluem MongoDB, Cassandra, Redis, e Neo4j."
      ],
      "metadata": {
        "id": "cW1ABnBnfW-y"
      }
    },
    {
      "cell_type": "markdown",
      "source": [
        "### O que é um SGBD\n",
        "\n",
        "Um Sistema de Gerenciamento de Banco de Dados (SGBD) é um software que interage com os usuários, aplicativos e o próprio banco de dados para capturar e analisar os dados. Ele permite a definição, criação, consulta, atualização e administração dos bancos de dados. Exemplos de SGBDs incluem:\n",
        "\n",
        "  - MySQL: Um dos bancos de dados relacionais mais populares, usado amplamente na web.\n",
        "  - PostgreSQL: Conhecido por sua robustez e suporte a extensões.\n",
        "  - SQLite: Um banco de dados leve, ideal para aplicações embarcadas.\n",
        "  - MongoDB: Um banco de dados NoSQL popular que armazena dados em documentos JSON."
      ],
      "metadata": {
        "id": "F-WeFVvof_k8"
      }
    },
    {
      "cell_type": "markdown",
      "source": [
        "###Comandos de SQL\n",
        "\n",
        "Antes de começarmos com os comandos de SQL, vamos fazer uma breve passagem do que é SQL.\n",
        "\n",
        "SQL, que significa Structured Query Language (Linguagem de Consulta Estruturada), é uma linguagem de programação padrão utilizada para gerenciar e manipular bancos de dados relacionais. Aqui está uma explicação breve sobre o que é SQL:\n",
        "Definição e Propósito\n",
        "\n",
        "SQL é usada para interagir com bancos de dados relacionais, permitindo realizar diversas operações, como:\n",
        "\n",
        "  - Consultar dados: Recuperar informações específicas de uma ou mais tabelas (SELECT).\n",
        "  - Inserir novos dados: Adicionar novos registros a uma tabela (INSERT).\n",
        "  - Atualizar dados existentes: Modificar registros já existentes (UPDATE).\n",
        "  - Excluir dados: Remover registros de uma tabela (DELETE).\n",
        "  - Criar e modificar estruturas de banco de dados: Definir e alterar tabelas e outros objetos (CREATE, ALTER, DROP).\n",
        "\n",
        "Principais Comandos SQL\n",
        "\n",
        "  - DDL (Data Definition Language): Usada para definir a estrutura do banco de dados.\n",
        "        CREATE: Cria novos objetos no banco de dados (tabelas, índices, etc.).\n",
        "        ALTER: Modifica objetos existentes.\n",
        "        DROP: Exclui objetos do banco de dados.\n",
        "\n",
        "  - DML (Data Manipulation Language): Usada para manipular os dados dentro das tabelas.\n",
        "        SELECT: Recupera dados do banco de dados.\n",
        "        INSERT: Adiciona novos dados.\n",
        "        UPDATE: Modifica dados existentes.\n",
        "        DELETE: Remove dados.\n",
        "\n",
        "  - DCL (Data Control Language): Usada para controlar o acesso aos dados.\n",
        "        GRANT: Concede permissões a usuários.\n",
        "        REVOKE: Revoga permissões concedidas.\n",
        "\n",
        "  - TCL (Transaction Control Language): Usada para gerenciar transações no banco de dados.\n",
        "        COMMIT: Confirma uma transação.\n",
        "        ROLLBACK: Reverte uma transação."
      ],
      "metadata": {
        "id": "3q0YsGD0jILY"
      }
    },
    {
      "cell_type": "markdown",
      "source": [
        "Certo, agora que entendemos melhor o que é SQL em si e seus principais comandos, vamos verificar como utilizar esses comandos em um SGBD, na aula de hoje veremos isso no MySQL.\n",
        "\n",
        "Para começarmos, vamos criar nosso primeiro banco de dados, utilizando o seguinte comando:\n",
        "\n",
        "\n",
        "\n",
        "```\n",
        "CREATE DATABASE meu_primeiro_banco;\n",
        "USE meu_primeiro_banco;\n",
        "```\n",
        "\n"
      ],
      "metadata": {
        "id": "8r6zrdHbkCs4"
      }
    },
    {
      "cell_type": "markdown",
      "source": [
        "Certo, agora que criamos e estamos utilizando o banco de dados que criamos, vamos criar nossa primeira tabela, utilizando o seguinte comando\n",
        "\n",
        "\n",
        "\n",
        "```\n",
        "CREATE TABLE nome_da_tabela (\n",
        "  nome_coluna tipo_coluna,\n",
        "  nome_coluna tipo_coluna,\n",
        "  nome_coluna tipo_coluna\n",
        ");\n",
        "```\n",
        "\n",
        "Olhando o exemplo acima, vamos para nossa primeira atividade:\n",
        "\n",
        "- 1 - Crie uma tabela chamada clientes e crie os seguintes campos, todos como tipo de texto:           \n",
        "    - Nome\n",
        "    - Email\n",
        "    - data_nascimento\n"
      ],
      "metadata": {
        "id": "oNZ5IwBtlZni"
      }
    },
    {
      "cell_type": "markdown",
      "source": [
        "Feito a atividade, perceba que temos alguns detalhes que devemos corrigir, que nesse caso será, o campo data_nascimento, que não deve ser do tipo texto, deve ser um data e podemos adicionar outro campo que é o endereço do cliente.\n",
        "\n",
        "Certo, para aplicarmos essa alteração, podemos fazer de duas formas, a primeira forma, seria mais bruta e poderia implicar em algumas questões da minha aplicação, que seria apagar a tabela e reescrevar ela. Já a outra forma, é aplicarmos isso um comando para alterar a tabela, que é o ALTER TABLE:\n",
        "\n",
        "\n",
        "No caso abaixo, podemos adicionar uma nova coluna com o seguinte comando:\n",
        "```\n",
        "ALTER TABLE nome_tabela ADD nome_coluna tipo_dado;\n",
        "```\n",
        "\n",
        "Já, se quisermos alterar algum dado, utilizamos o seguinte comando:\n",
        "\n",
        "```\n",
        "ALTER TABLE nome_tabela MODIFY nome_coluna tipo_dado;\n",
        "```\n",
        "\n"
      ],
      "metadata": {
        "id": "q7HAefK12ySY"
      }
    },
    {
      "cell_type": "markdown",
      "source": [
        "Continuando, como vimos acima, agora temos a capacidade de criar e alterar tabelas dentro do nosso banco de dados.\n",
        "\n",
        "E como foi dito acima, temos a capacidade também de deletar a nossa tabela do banco do de dados, com o seguinte comando:\n",
        "\n",
        "```\n",
        "DROP TABLE clientes;\n",
        "```\n",
        "\n",
        "Esses são os comandos de **DDL** que foi explicado mais acima."
      ],
      "metadata": {
        "id": "oFl_tic05gHf"
      }
    },
    {
      "cell_type": "markdown",
      "source": [
        "###DML\n",
        "\n",
        "Como vimos, esses são os comandos que usamos para manipular dados de um tabela.\n",
        "\n",
        "Nesse caso, o primeiro comando que veremos é o de inserir dados na tabela."
      ],
      "metadata": {
        "id": "AnghLL3177uV"
      }
    },
    {
      "cell_type": "markdown",
      "source": [
        "Para isso inserir os dados, utilizamos o seguinte o comando:\n",
        "\n",
        "```\n",
        "INSERT INTO nome_tabela (coluna1, coluna2, coluna3)\n",
        "VALUES (valor1, valor2, valor3);\n",
        "```\n",
        "\n",
        "Desse modo, vamos partir para segunda atividade, com a tabela já criada, clientes, insira dados dentro dessa tabela, cadastrando alguns clientes com o que vimos acima."
      ],
      "metadata": {
        "id": "yKxvjUNT8h5O"
      }
    },
    {
      "cell_type": "markdown",
      "source": [
        "Com os clientes cadastrados, temos que ter a capacidade de selecionar esses clientes, para isso temos um comando também no SQL.\n",
        "\n",
        "```\n",
        "SELECT colunas FROM nome_tabela WHERE condicao;\n",
        "```\n",
        "\n",
        "Esse é um exemplo de SELECT que temos no SQL"
      ],
      "metadata": {
        "id": "JbAAwvF48oWk"
      }
    },
    {
      "cell_type": "markdown",
      "source": [
        "Outra coisa que pode acontecer dentro da nossa aplicação é a atualização de dados, para isso, utilizamos um comando dentro do SQL:\n",
        "\n",
        "```\n",
        "UPDATE nome_tabela\n",
        "SET coluna1 = valor1\n",
        "WHERE condicao;\n",
        "```\n",
        "\n",
        "Olhando o exemplo acima, vamos para a terceira atividade, atualize todos os endereços dos clientes cadastrados."
      ],
      "metadata": {
        "id": "1KrqxeV1-YLd"
      }
    },
    {
      "cell_type": "markdown",
      "source": [
        "Agora, o último comando que temos de DML é o para deletar os dados, para isso, temos o seguinte comando:\n",
        "\n",
        "```\n",
        "DELETE FROM nome_tabela\n",
        "WHERE condicao;\n",
        "```\n",
        "\n",
        "Com base nesse comando, delete os últimos dois registros dentro da sua tabela."
      ],
      "metadata": {
        "id": "X3Lm8MAX_R1s"
      }
    },
    {
      "cell_type": "code",
      "source": [],
      "metadata": {
        "id": "lcQbxXkIAngx"
      },
      "execution_count": null,
      "outputs": []
    }
  ]
}