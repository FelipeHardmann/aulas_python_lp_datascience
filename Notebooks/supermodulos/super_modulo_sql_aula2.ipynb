{
  "nbformat": 4,
  "nbformat_minor": 0,
  "metadata": {
    "colab": {
      "provenance": []
    },
    "kernelspec": {
      "name": "python3",
      "display_name": "Python 3"
    },
    "language_info": {
      "name": "python"
    }
  },
  "cells": [
    {
      "cell_type": "markdown",
      "source": [
        "##Reforço SQL Aula 2\n",
        "\n",
        "####O que será abordado na aula de hoje:\n",
        "\n",
        "- Revisão da aula passada\n",
        "- Comandos SQL avançados\n",
        "- Integração do MySQL com o Python\n",
        "- Atividade prática"
      ],
      "metadata": {
        "id": "9TQrt-EGXd3K"
      }
    },
    {
      "cell_type": "markdown",
      "source": [
        "###Revisão\n",
        "\n",
        "Na aula passada, vimos os conceitos básicos do SQL, a criação de um banco de dados com o comando\n",
        "\n",
        "\n",
        "\n",
        "```\n",
        "CREATE DATABASE nome_do_banco\n",
        "```\n",
        "\n",
        "Vimos também a criação de tabelas com o comando\n",
        "\n",
        "\n",
        "\n",
        "```\n",
        "CREATE TABLE nome_tabela (\n",
        "  coluna1 tipo,\n",
        "  coluna2 tipo\n",
        ")\n",
        "```\n",
        "\n",
        "Além disso, também vimos os comandos que fazem a manipulação das tabelas, que são esses:\n",
        "\n",
        "```\n",
        "INSERT INTO nome_tabela (coluna1, coluna2, coluna3)\n",
        "VALUES (valor1, valor2, valor3);\n",
        "```\n",
        "\n",
        "```\n",
        "SELECT colunas FROM nome_tabela WHERE condicao;\n",
        "```\n",
        "\n",
        "```\n",
        "UPDATE nome_tabela\n",
        "SET coluna1 = valor1\n",
        "WHERE condicao;\n",
        "```\n",
        "\n",
        "```\n",
        "DELETE FROM nome_tabela\n",
        "WHERE condicao;\n",
        "```\n"
      ],
      "metadata": {
        "id": "6baY_9faZ5mL"
      }
    },
    {
      "cell_type": "markdown",
      "source": [
        "###Foreign Keys\n",
        "\n",
        "Na aula passada, avançamos mais um pouco e vimos também sobre, foreign key, que nada mais é que uma coluna ou até mesmo um conjunto de colunas que estabelece uma relação entre dados de duas ou mais tabelas.\n",
        "\n"
      ],
      "metadata": {
        "id": "uv_i3q--ayBm"
      }
    },
    {
      "cell_type": "markdown",
      "source": [
        "Certo, agora que relembramos alguns conceitos da aula passada, vamos fazer uma atividade para relembrar um pouco de todos os assuntos:\n",
        "\n",
        "- 1 - Crie duas tabelas, uma de cursos e outra de alunos, a tabela de curso, vai ter as seguintes colunas:\n",
        "\n",
        "      id\n",
        "      nome\n",
        "\n",
        "  Já a tabela de alunos vai ter:\n",
        "      id\n",
        "      nome\n",
        "      idade\n",
        "\n",
        "Lembre-se, as duas tabelas vão se relacionar, então, veja onde melhor se encaixa essa relação. Lembrando que, um aluno, só pode estar matriculado em um curso. Ao criar essas tabelas, insira alguns dados nas tabelas"
      ],
      "metadata": {
        "id": "ryYYDoBgc_pY"
      }
    },
    {
      "cell_type": "markdown",
      "source": [
        "---\n",
        "###Comandos SQL avançados\n",
        "\n",
        "\n",
        "Agora, veremos mais alguns tipos de seleções que podemos fazer com SQL.\n",
        "\n",
        "```\n",
        "SELECT * FROM nome_tabela WHERE condição\n",
        "```\n",
        "\n",
        "Podemos utilizar o WHERE para colocar condições nos nossos SELECT.\n",
        "\n",
        "```\n",
        "SELECT * FROM nome_tabela ORDER BY coluna ASC ou DESC\n",
        "```\n",
        "\n",
        "Acima, vimos que podemos fazer seleções por ordenações também, de forma crescente ou decrescente.\n",
        "\n",
        "Outro tipo de seleção que é muito comum também, é a seleção com JOIN, essa seleção são separadas pela seguinte forma:\n",
        "\n",
        "- INNER JOIN: Retorna registros que têm valores correspondentes em ambas as tabelas.\n",
        "- LEFT JOIN (ou LEFT OUTER JOIN): Retorna todos os registros da tabela à esquerda e os registros correspondentes da tabela à direita. Se não houver correspondência, retorna NULL para as colunas da tabela à direita.\n",
        "- RIGHT JOIN (ou RIGHT OUTER JOIN): Retorna todos os registros da tabela à direita e os registros correspondentes da tabela à esquerda. Se não houver correspondência, retorna NULL para as colunas da tabela à esquerda."
      ],
      "metadata": {
        "id": "icNac4RHd7dS"
      }
    },
    {
      "cell_type": "markdown",
      "source": [
        "Vamos utilizar o exemplo com a nossa tabela já criada de cursos:\n",
        "\n",
        "```\n",
        "SELECT alunos.nome AS aluno, cursos.nome AS curso\n",
        "FROM alunos\n",
        "INNER JOIN cursos ON alunos.curso_id = cursos.id;\n",
        "```\n",
        "\n",
        "O comando acima, combina registros que têm correspondências em ambas as tabelas.\n",
        "\n",
        "```\n",
        "SELECT alunos.nome AS aluno, cursos.nome AS curso\n",
        "FROM alunos\n",
        "LEFT JOIN cursos ON alunos.curso_id = cursos.id;\n",
        "```\n",
        "\n",
        "O left join, retorna todos os registros da tabela alunos e os registros correspondentes da tabela cursos. Se não houver correspondência, retorna NULL para as colunas da tabela cursos.\n",
        "\n",
        "\n",
        "```\n",
        "SELECT alunos.nome AS aluno, cursos.nome AS curso\n",
        "FROM alunos\n",
        "RIGHT JOIN cursos ON alunos.curso_id = cursos.id;\n",
        "```\n",
        "\n",
        "O right join, retorna todos os registros da tabela cursos e os registros correspondentes da tabela alunos. Se não houver correspondência, retorna NULL para as colunas da tabela alunos."
      ],
      "metadata": {
        "id": "BETPY4TPqHQY"
      }
    },
    {
      "cell_type": "markdown",
      "source": [
        "###Integração MySQL com Python\n",
        "\n",
        "Primeiro, para começarmos, vamos criar o ambiente virtual para instalar as nossas dependências.\n",
        "\n",
        "```\n",
        "python3 -m venv nome_do_ambiente\n",
        "```\n",
        "\n",
        "Porém, também há a necessidade de ativar o ambiente virtual com o comando:\n",
        "\n",
        "```\n",
        "nome_do_ambiente\\Scripts\\activate\n",
        "```\n",
        "\n",
        "Agora, com o nosso ambiente criado, vamos precisar instalar uma lib que é necessária para conectar o MySQL com o nosso código Python.\n",
        "\n",
        "Para isso, utilizamos o comando:\n",
        "\n",
        "```\n",
        "pip install mysql-connector-python\n",
        "```"
      ],
      "metadata": {
        "id": "hY9EwOkMtjYD"
      }
    },
    {
      "cell_type": "markdown",
      "source": [
        "Agora, instalado o nosso ambiente, precisamos importar no nosso código Python.\n",
        "\n",
        "```\n",
        "import mysql.connector\n",
        "```\n",
        "\n",
        "Agora, precisamos nos certificar que temos um banco de dados MySQL rodando e que você conhece o host, user, password e database que você quer acessar.\n",
        "\n",
        "Se soubermos tudo isso, podemos conectar o banco com o seguinte comando:\n",
        "\n",
        "```\n",
        "conn = mysql.connector.connect(\n",
        "    host=\"localhost\",\n",
        "    user=\"seu_usuario\",\n",
        "    password=\"sua_senha\",\n",
        "    database=\"nome_do_banco_de_dados\"\n",
        ")\n",
        "```\n",
        "\n",
        "Outra variável que precisamos criar é:\n",
        "\n",
        "```\n",
        "cursor = conn.cursor()\n",
        "```\n",
        "\n",
        "Que vai ser responsável por executar comando SQL dentro do Python"
      ],
      "metadata": {
        "id": "55pbLIrA8-jv"
      }
    },
    {
      "cell_type": "markdown",
      "source": [
        "Vamos executar nossos primeiros comandos:"
      ],
      "metadata": {
        "id": "OBZSLkEN_0us"
      }
    },
    {
      "cell_type": "code",
      "source": [
        "cursor.execute(\"\"\"\n",
        "    CREATE TABLE IF NOT EXISTS cursos (\n",
        "        id INT PRIMARY KEY,\n",
        "        nome VARCHAR(50)\n",
        "    )\n",
        "\"\"\")\n",
        "\n",
        "cursor.execute(\"\"\"\n",
        "    CREATE TABLE IF NOT EXISTS alunos (\n",
        "        id INT PRIMARY KEY,\n",
        "        nome VARCHAR(50),\n",
        "        curso_id INT,\n",
        "        FOREIGN KEY (curso_id) REFERENCES cursos(id)\n",
        "    )\n",
        "\"\"\")\n",
        "\n",
        "cursor.executemany(\"\"\"\n",
        "    INSERT INTO cursos (id, nome) VALUES (%s, %s)\n",
        "\"\"\", [\n",
        "    (1, 'Matemática'),\n",
        "    (2, 'Física'),\n",
        "    (3, 'Química')\n",
        "])\n",
        "\n",
        "cursor.executemany(\"\"\"\n",
        "    INSERT INTO alunos (id, nome, curso_id) VALUES (%s, %s, %s)\n",
        "\"\"\", [\n",
        "    (1, 'Ana', 1),\n",
        "    (2, 'Bruno', 2),\n",
        "    (3, 'Carlos', 3),\n",
        "    (4, 'Daniela', None)\n",
        "])\n",
        "\n",
        "conn.commit()\n",
        "\n",
        "cursor.execute(\"\"\"\n",
        "    SELECT alunos.nome AS aluno, cursos.nome AS curso\n",
        "    FROM alunos\n",
        "    INNER JOIN cursos ON alunos.curso_id = cursos.id\n",
        "\"\"\")\n",
        "for row in cursor.fetchall():\n",
        "    print(row)\n",
        "\n",
        "cursor.execute(\"\"\"\n",
        "    SELECT alunos.nome AS aluno, cursos.nome AS curso\n",
        "    FROM alunos\n",
        "    LEFT JOIN cursos ON alunos.curso_id = cursos.id\n",
        "\"\"\")\n",
        "for row in cursor.fetchall():\n",
        "    print(row)\n",
        "\n",
        "cursor.execute(\"\"\"\n",
        "    SELECT alunos.nome AS aluno, cursos.nome AS curso\n",
        "    FROM alunos\n",
        "    RIGHT JOIN cursos ON alunos.curso_id = cursos.id\n",
        "\"\"\")\n",
        "for row in cursor.fetchall():\n",
        "    print(row)\n",
        "\n",
        "cursor.close()\n",
        "conn.close()"
      ],
      "metadata": {
        "id": "1Z5LWISaBLJA"
      },
      "execution_count": null,
      "outputs": []
    },
    {
      "cell_type": "markdown",
      "source": [
        "Certo, então, se você entendeu, sabe que a conexão faz apenas com que você consiga inserir código SQL dentro de strings Python, então, perceba que são apenas strings, então, você pode utilizar variáveis python dentros dessas strings\n",
        "\n",
        "Com isso, vamos fazer uma atividade para fixar o conhecimento.\n",
        "\n",
        "- 1 Agora, você pode até utilizar o mesmo banco de dados, mas você deve criar a tabela de contatos e no seu código Python, vocês devem criar um script de terminal, que deixe o usuário Criar um contato, atualizar um contato, deletar um contato e visualizar todos os contatos."
      ],
      "metadata": {
        "id": "943ptlUZC1Ts"
      }
    }
  ]
}