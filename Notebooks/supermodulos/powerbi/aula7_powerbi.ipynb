{
  "nbformat": 4,
  "nbformat_minor": 0,
  "metadata": {
    "colab": {
      "provenance": []
    },
    "kernelspec": {
      "name": "python3",
      "display_name": "Python 3"
    },
    "language_info": {
      "name": "python"
    }
  },
  "cells": [
    {
      "cell_type": "markdown",
      "source": [
        "#Bem-vindo a aula 7 de Power BI\n",
        "\n",
        "Na aula de hoje faremos um projeto no Power BI, construindo um dashboard dinâmico para fixarmos os assuntos da aula passada.\n",
        "\n",
        "Na aula de hoje vamos fazer uma grande revisão, fazendo um projeto, um dashboard do zero, com análise exploratória, construção dos gráficos e entre outros pontos.\n",
        "\n",
        "Para isso, vamos trabalhar hoje com uma base de dados chamada *bd_vendas.xlsx*."
      ],
      "metadata": {
        "id": "vX9YOo9HDJJb"
      }
    },
    {
      "cell_type": "markdown",
      "source": [
        "Parando para pensar nos dados que temos, temos duas abas de dados, a primeira com praticamente 2 mil linhas, com informações de pedidos, como o *id do pedido*, *data do pedido*, *código da loja*, *produto*, *preço*, *pagamento*.\n",
        "\n",
        "Olhando rapidamente, percebemos problemas na base de dados, como nomes de produtos com padrões diferentes, Qtd de produto e Preço juntos.\n",
        "\n",
        "Então, no mesmo padrão que fizemos em aulas passadas, fazemos importar os dados do excel e transformar eles."
      ],
      "metadata": {
        "id": "ZqYql8pBYyiv"
      }
    },
    {
      "cell_type": "markdown",
      "source": [
        "Agora, devemos estar vendo a parte do Power Query, que é onde fazemos o tratamento de dados."
      ],
      "metadata": {
        "id": "505dtUGcad-T"
      }
    },
    {
      "cell_type": "markdown",
      "source": [
        "Agora, o primeiro valor que vamos ajustar, é o nome errado da Malaa, que está com dois a."
      ],
      "metadata": {
        "id": "pGi7oLI9aw_O"
      }
    },
    {
      "cell_type": "markdown",
      "source": [
        "Depois disso, vamos precisar padronizar os dados, que estão alguns em maísculos e minusculos.\n",
        "\n",
        "O outro problema que temos é que temos duas informações na mesma coluna, precisamos separar essas colunas."
      ],
      "metadata": {
        "id": "W-SYDzApbBEq"
      }
    },
    {
      "cell_type": "markdown",
      "source": [
        "Na nossa aba de lojas, também precisamos ajustar os cabeçalhos nesse caso, colocando o valor correto, nãoo nome column"
      ],
      "metadata": {
        "id": "MKhfv4jibfxZ"
      }
    },
    {
      "cell_type": "markdown",
      "source": [
        "Agora, podemos com as informações separadas, criar uma nova coluna de faturamento."
      ],
      "metadata": {
        "id": "fkED4SQFcswp"
      }
    },
    {
      "cell_type": "markdown",
      "source": [
        "Agora, fechada e aplicada nossas transformações, podemos começar a crir um dashboard para nossos dados.\n",
        "\n",
        "Vamos iniciar com o visual de cartão.\n",
        "\n",
        "Esse visual de cartão, vamos colocar o faturamento total\n",
        "\n",
        "Depois de estilizado, podemos criar mais um cartão para trazer por exemplo o ticket médio e reutilizar o estilo."
      ],
      "metadata": {
        "id": "ky6C-uyUdGIg"
      }
    },
    {
      "cell_type": "markdown",
      "source": [
        "Agora, vamos criar um gráfico de barras, com o faturamento ao longo dos meses.\n",
        "\n",
        "Lembrando, que na hora da estilização podemos deixar esse gráfico de barras da maneira que quisermos, com as cores, formatação da maneira que quisermos e até mesmo com uma linha média."
      ],
      "metadata": {
        "id": "-Zp3R0klfajt"
      }
    },
    {
      "cell_type": "markdown",
      "source": [
        "Agora, pensando nisso, vamos criar uma gráfico de barra que traz o faturamento das lojas."
      ],
      "metadata": {
        "id": "2r4DQxmggwP4"
      }
    },
    {
      "cell_type": "markdown",
      "source": [
        "Agora, o outro desafio é criar um gráfico de tabela. Trazendo o faturamento por produto e a porcentagem do faturamento do produto sobre o faturamento total."
      ],
      "metadata": {
        "id": "uKG8b2jLim7U"
      }
    }
  ]
}