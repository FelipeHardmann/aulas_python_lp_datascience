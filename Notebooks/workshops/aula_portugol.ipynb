{
  "cells": [
    {
      "cell_type": "markdown",
      "metadata": {
        "id": "QKeXwQGEGS6U"
      },
      "source": [
        "# 💻 Introdução à Programação com Portugol\n",
        "\n",
        "**Duração:** 2 horas  \n",
        "**Público-alvo:** Iniciantes em programação  \n",
        "**Ferramenta principal:** Portugol Studio ou Visualg"
      ]
    },
    {
      "cell_type": "markdown",
      "metadata": {
        "id": "KheKCYH-GS6X"
      },
      "source": [
        "## 🧠 Por que aprender lógica de programação?\n",
        "\n",
        "- A lógica é a base de toda programação.\n",
        "- Ajuda a desenvolver o raciocínio computacional.\n",
        "- É essencial antes de partir para linguagens mais complexas (como Python, Java, etc).\n",
        "- Com lógica, conseguimos pensar como os computadores \"pensam\"."
      ]
    },
    {
      "cell_type": "markdown",
      "metadata": {
        "id": "AATaziq-GS6Y"
      },
      "source": [
        "## 🤔 O que é Portugol?\n",
        "\n",
        "**Portugol** é uma linguagem fictícia que simula a estrutura de linguagens reais, mas usando termos em português.\n",
        "\n",
        "🎯 **Objetivo:** ensinar lógica de programação de forma mais intuitiva para quem está começando.\n",
        "\n",
        "👉 É usada em ferramentas educacionais como:\n",
        "- [Portugol Studio](https://github.com/UNIVALI-LITE/Portugol-Studio)\n",
        "- [Visualg](http://visualg3.com.br/)\n",
        "\n",
        "**⚠️ Importante:** Portugol **não é uma linguagem de programação usada profissionalmente**, mas é excelente para aprender lógica de programação antes de passar para linguagens como Python ou C."
      ]
    },
    {
      "cell_type": "markdown",
      "metadata": {
        "id": "vWZMVsUKGS6Z"
      },
      "source": [
        "## 🛠️ Onde escrever código em Portugol?\n",
        "\n",
        "1. **Portugol Studio** (Recomendado)\n",
        "- Gratuito, open source\n",
        "- Interface amigável\n",
        "- Baixe aqui: https://univali-lite.github.io/Portugol-Studio/\n",
        "\n",
        "2. **Visualg**\n",
        "- Muito usado em escolas técnicas\n",
        "- Interface simples, roda bem em Windows\n",
        "- Baixe aqui: http://visualg3.com.br/"
      ]
    },
    {
      "cell_type": "markdown",
      "metadata": {
        "id": "TsCE24DWGS6Z"
      },
      "source": [
        "## 🧱 Estrutura básica de um algoritmo em Portugol\n",
        "\n",
        "```portugol\n",
        "inicio\n",
        "   escreva(\"Olá, mundo!\")\n",
        "fim\n",
        "```\n",
        "\n",
        "- `inicio` e `fim`: delimitam o início e fim do algoritmo.\n",
        "- `escreva`: comando de saída (imprime na tela).\n",
        "- Comentários: iniciam com `//`"
      ]
    },
    {
      "cell_type": "markdown",
      "metadata": {
        "id": "95W2tE5lGS6a"
      },
      "source": [
        "## 🧾 Variáveis e tipos de dados\n",
        "\n",
        "| Tipo      | Exemplo        | Usado para                 |\n",
        "|-----------|----------------|----------------------------|\n",
        "| inteiro   | 10             | Números inteiros           |\n",
        "| real      | 3.14           | Números decimais           |\n",
        "| caractere| 'a' ou \"texto\" | Letras ou frases           |\n",
        "| logico    | verdadeiro     | Verdadeiro ou falso        |\n",
        "\n",
        "**Exemplo:**\n",
        "```portugol\n",
        "inicio\n",
        "   inteiro idade\n",
        "   escreva(\"Digite sua idade: \")\n",
        "   leia(idade)\n",
        "   escreva(\"Idade informada: \", idade)\n",
        "fim\n",
        "```"
      ]
    },
    {
      "cell_type": "markdown",
      "metadata": {
        "id": "vMWCb7EJGS6a"
      },
      "source": [
        "## 🔁 Condicionais (if/else)\n",
        "\n",
        "```portugol\n",
        "inicio\n",
        "   inteiro idade\n",
        "   escreva(\"Digite a idade: \")\n",
        "   leia(idade)\n",
        "   se idade >= 18 entao\n",
        "      escreva(\"Maior de idade\")\n",
        "   senao\n",
        "      escreva(\"Menor de idade\")\n",
        "   fimse\n",
        "fim\n",
        "```"
      ]
    },
    {
      "cell_type": "markdown",
      "metadata": {
        "id": "LldGaW3zGS6b"
      },
      "source": [
        "## 🔁 Repetições (loops)\n",
        "\n",
        "### `para` (loop com contador):\n",
        "```portugol\n",
        "inicio\n",
        "   inteiro i\n",
        "   para i de 1 ate 5 faca\n",
        "      escreva(\"Valor: \", i)\n",
        "   fimpara\n",
        "fim\n",
        "```\n",
        "\n",
        "### `enquanto` (loop com condição):\n",
        "```portugol\n",
        "inicio\n",
        "   inteiro i\n",
        "   i <- 1\n",
        "   enquanto i <= 5 faca\n",
        "      escreva(\"Número: \", i)\n",
        "      i <- i + 1\n",
        "   fimenquanto\n",
        "fim\n",
        "```"
      ]
    },
    {
      "cell_type": "markdown",
      "metadata": {
        "id": "xrdzcPwtGS6b"
      },
      "source": [
        "## 📝 Exercício prático 1\n",
        "**Objetivo:** Criar um algoritmo que:\n",
        "- Leia nome e idade\n",
        "- Escreva uma mensagem personalizada\n",
        "- Diga se é maior ou menor de idade\n",
        "\n",
        "**Solução:**\n",
        "```portugol\n",
        "inicio\n",
        "   caractere nome\n",
        "   inteiro idade\n",
        "\n",
        "   escreva(\"Digite seu nome: \")\n",
        "   leia(nome)\n",
        "   escreva(\"Digite sua idade: \")\n",
        "   leia(idade)\n",
        "\n",
        "   escreva(\"Olá, \", nome, \"!\")\n",
        "   se idade >= 18 entao\n",
        "      escreva(\"Você é maior de idade.\")\n",
        "   senao\n",
        "      escreva(\"Você é menor de idade.\")\n",
        "   fimse\n",
        "fim\n",
        "```"
      ]
    },
    {
      "cell_type": "markdown",
      "metadata": {
        "id": "Kk2XtO6iGS6c"
      },
      "source": [
        "## 🧠 Desafio\n",
        "Crie um algoritmo que:\n",
        "- Peça um número\n",
        "- Mostre a tabuada desse número de 1 a 10 usando `para`\n",
        "\n",
        "### Dica:\n",
        "Use a estrutura:\n",
        "```portugol\n",
        "para i de 1 ate 10 faca\n",
        "   escreva(numero, \" x \", i, \" = \", numero * i)\n",
        "```"
      ]
    },
    {
      "cell_type": "markdown",
      "metadata": {
        "id": "hNlVCRdLGS6d"
      },
      "source": [
        "## 📚 Referências e recursos úteis\n",
        "- Portugol Studio: https://github.com/UNIVALI-LITE/Portugol-Studio\n",
        "- Visualg: http://visualg3.com.br/\n",
        "- Curso gratuito de lógica: https://www.cursoemvideo.com/course/curso-de-logica-de-programacao/\n",
        "- Livro: \"Algoritmos: Lógica para Desenvolvimento de Programação\" – José Augusto N. G. Manzano"
      ]
    }
  ],
  "metadata": {
    "kernelspec": {
      "display_name": "Python 3",
      "language": "python",
      "name": "python3"
    },
    "language_info": {
      "name": "python"
    },
    "colab": {
      "provenance": []
    }
  },
  "nbformat": 4,
  "nbformat_minor": 0
}